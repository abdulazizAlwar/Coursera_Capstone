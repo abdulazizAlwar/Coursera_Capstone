{
 "cells": [
  {
   "cell_type": "markdown",
   "metadata": {},
   "source": [
    "# Dubai Neighborhood Venue Category Analysis "
   ]
  },
  {
   "cell_type": "markdown",
   "metadata": {},
   "source": [
    "### Problem Statement"
   ]
  },
  {
   "cell_type": "markdown",
   "metadata": {},
   "source": [
    "Dubai is a multi-national, multi-generation, multi-cultural and naturally, multi-demographic city. The purpose of this study is to try to cluster and categorize each area to understand the demographic and characteristics of each area's residents and visitors. \n",
    "\n",
    "Analysis of the demographics in Dubai will help understand marketing oppurtunities"
   ]
  },
  {
   "cell_type": "markdown",
   "metadata": {},
   "source": [
    "### Data Description"
   ]
  },
  {
   "cell_type": "markdown",
   "metadata": {},
   "source": [
    "The datasets used are:<br>\n",
    "-Foursquare API Venue Data for Dubai.<br>\n",
    "-Wikipedia Dubai communities list<br>\n",
    "\n",
    "The Foursquare API Venue dataset will be used find venues and Dubai and their location and categories. Then the venue data will be grouped for each area in Dubai with count of each venue category in each area. This dataset will be used to cluster each area based on the characterstics of venue types in each area.\n",
    "\n",
    "The Wikipedia Dubai communities list will be used to enrich the above dataset with further useful information."
   ]
  }
 ],
 "metadata": {
  "kernelspec": {
   "display_name": "Python 3",
   "language": "python",
   "name": "python3"
  },
  "language_info": {
   "codemirror_mode": {
    "name": "ipython",
    "version": 3
   },
   "file_extension": ".py",
   "mimetype": "text/x-python",
   "name": "python",
   "nbconvert_exporter": "python",
   "pygments_lexer": "ipython3",
   "version": "3.8.3"
  }
 },
 "nbformat": 4,
 "nbformat_minor": 4
}
