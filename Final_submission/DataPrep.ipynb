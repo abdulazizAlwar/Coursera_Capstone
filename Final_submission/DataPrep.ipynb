{
 "cells": [
  {
   "cell_type": "markdown",
   "metadata": {},
   "source": [
    "### Imports"
   ]
  },
  {
   "cell_type": "markdown",
   "metadata": {},
   "source": [
    "##### Libraries"
   ]
  },
  {
   "cell_type": "code",
   "execution_count": 1,
   "metadata": {},
   "outputs": [],
   "source": [
    "import requests\n",
    "import pandas as pd\n",
    "from pandas import json_normalize"
   ]
  },
  {
   "cell_type": "code",
   "execution_count": 2,
   "metadata": {},
   "outputs": [],
   "source": [
    "pd.set_option('display.max_columns', None)\n",
    "pd.set_option('display.max_colwidth', None)"
   ]
  },
  {
   "cell_type": "markdown",
   "metadata": {},
   "source": [
    "##### API Access Credentials"
   ]
  },
  {
   "cell_type": "code",
   "execution_count": 3,
   "metadata": {},
   "outputs": [],
   "source": [
    "from access_details import CLIENT_ID_\n",
    "from access_details import CLIENT_SECRET_"
   ]
  },
  {
   "cell_type": "markdown",
   "metadata": {},
   "source": [
    "## Dubai Communities Wikipedia Dataset"
   ]
  },
  {
   "cell_type": "markdown",
   "metadata": {},
   "source": [
    "##### Import Data from Wikipedia"
   ]
  },
  {
   "cell_type": "code",
   "execution_count": 4,
   "metadata": {},
   "outputs": [],
   "source": [
    "path = \"https://en.wikipedia.org/wiki/List_of_communities_in_Dubai\""
   ]
  },
  {
   "cell_type": "code",
   "execution_count": 5,
   "metadata": {},
   "outputs": [],
   "source": [
    "wiki_df = pd.read_html(path, header=0)[0]"
   ]
  },
  {
   "cell_type": "raw",
   "metadata": {},
   "source": [
    "wiki_df.to_csv(\"wiki_df.csv\", index=False)"
   ]
  },
  {
   "cell_type": "code",
   "execution_count": 6,
   "metadata": {},
   "outputs": [
    {
     "data": {
      "text/html": [
       "<div>\n",
       "<style scoped>\n",
       "    .dataframe tbody tr th:only-of-type {\n",
       "        vertical-align: middle;\n",
       "    }\n",
       "\n",
       "    .dataframe tbody tr th {\n",
       "        vertical-align: top;\n",
       "    }\n",
       "\n",
       "    .dataframe thead th {\n",
       "        text-align: right;\n",
       "    }\n",
       "</style>\n",
       "<table border=\"1\" class=\"dataframe\">\n",
       "  <thead>\n",
       "    <tr style=\"text-align: right;\">\n",
       "      <th></th>\n",
       "      <th>Community Number</th>\n",
       "      <th>Community (English)</th>\n",
       "      <th>Community (Arabic)</th>\n",
       "      <th>Area(km2)</th>\n",
       "      <th>Population(2000)</th>\n",
       "      <th>Population density(/km2)</th>\n",
       "      <th>Unnamed: 6</th>\n",
       "    </tr>\n",
       "  </thead>\n",
       "  <tbody>\n",
       "    <tr>\n",
       "      <th>0</th>\n",
       "      <td>126.0</td>\n",
       "      <td>Abu Hail</td>\n",
       "      <td>أبو هيل</td>\n",
       "      <td>1.27 km²</td>\n",
       "      <td>21414</td>\n",
       "      <td>16,861.4/km²</td>\n",
       "      <td>NaN</td>\n",
       "    </tr>\n",
       "    <tr>\n",
       "      <th>1</th>\n",
       "      <td>711.0</td>\n",
       "      <td>Al Awir First</td>\n",
       "      <td>العوير الأولى</td>\n",
       "      <td>NaN</td>\n",
       "      <td>NaN</td>\n",
       "      <td>NaN</td>\n",
       "      <td>NaN</td>\n",
       "    </tr>\n",
       "    <tr>\n",
       "      <th>2</th>\n",
       "      <td>721.0</td>\n",
       "      <td>Al Awir Second</td>\n",
       "      <td>العوير الثانية</td>\n",
       "      <td>NaN</td>\n",
       "      <td>NaN</td>\n",
       "      <td>NaN</td>\n",
       "      <td>NaN</td>\n",
       "    </tr>\n",
       "    <tr>\n",
       "      <th>3</th>\n",
       "      <td>283.0</td>\n",
       "      <td>Aleyas</td>\n",
       "      <td>العياص</td>\n",
       "      <td>162.4 km2</td>\n",
       "      <td>1706</td>\n",
       "      <td>162.4/km2</td>\n",
       "      <td>NaN</td>\n",
       "    </tr>\n",
       "    <tr>\n",
       "      <th>4</th>\n",
       "      <td>333.0</td>\n",
       "      <td>Al Bada'a</td>\n",
       "      <td>البدع</td>\n",
       "      <td>0.82 km²</td>\n",
       "      <td>18816</td>\n",
       "      <td>22946/km²</td>\n",
       "      <td>NaN</td>\n",
       "    </tr>\n",
       "  </tbody>\n",
       "</table>\n",
       "</div>"
      ],
      "text/plain": [
       "   Community Number Community (English) Community (Arabic)  Area(km2)  \\\n",
       "0             126.0            Abu Hail            أبو هيل   1.27 km²   \n",
       "1             711.0       Al Awir First      العوير الأولى        NaN   \n",
       "2             721.0      Al Awir Second     العوير الثانية        NaN   \n",
       "3             283.0              Aleyas             العياص  162.4 km2   \n",
       "4             333.0           Al Bada'a              البدع   0.82 km²   \n",
       "\n",
       "  Population(2000) Population density(/km2)  Unnamed: 6  \n",
       "0            21414             16,861.4/km²         NaN  \n",
       "1              NaN                      NaN         NaN  \n",
       "2              NaN                      NaN         NaN  \n",
       "3             1706                162.4/km2         NaN  \n",
       "4            18816                22946/km²         NaN  "
      ]
     },
     "execution_count": 6,
     "metadata": {},
     "output_type": "execute_result"
    }
   ],
   "source": [
    "wiki_df.head()"
   ]
  },
  {
   "cell_type": "code",
   "execution_count": 7,
   "metadata": {},
   "outputs": [
    {
     "data": {
      "text/html": [
       "<div>\n",
       "<style scoped>\n",
       "    .dataframe tbody tr th:only-of-type {\n",
       "        vertical-align: middle;\n",
       "    }\n",
       "\n",
       "    .dataframe tbody tr th {\n",
       "        vertical-align: top;\n",
       "    }\n",
       "\n",
       "    .dataframe thead th {\n",
       "        text-align: right;\n",
       "    }\n",
       "</style>\n",
       "<table border=\"1\" class=\"dataframe\">\n",
       "  <thead>\n",
       "    <tr style=\"text-align: right;\">\n",
       "      <th></th>\n",
       "      <th>Community Number</th>\n",
       "      <th>Unnamed: 6</th>\n",
       "    </tr>\n",
       "  </thead>\n",
       "  <tbody>\n",
       "    <tr>\n",
       "      <th>count</th>\n",
       "      <td>145.000000</td>\n",
       "      <td>0.0</td>\n",
       "    </tr>\n",
       "    <tr>\n",
       "      <th>mean</th>\n",
       "      <td>384.068966</td>\n",
       "      <td>NaN</td>\n",
       "    </tr>\n",
       "    <tr>\n",
       "      <th>std</th>\n",
       "      <td>218.663258</td>\n",
       "      <td>NaN</td>\n",
       "    </tr>\n",
       "    <tr>\n",
       "      <th>min</th>\n",
       "      <td>50.000000</td>\n",
       "      <td>NaN</td>\n",
       "    </tr>\n",
       "    <tr>\n",
       "      <th>25%</th>\n",
       "      <td>244.000000</td>\n",
       "      <td>NaN</td>\n",
       "    </tr>\n",
       "    <tr>\n",
       "      <th>50%</th>\n",
       "      <td>337.000000</td>\n",
       "      <td>NaN</td>\n",
       "    </tr>\n",
       "    <tr>\n",
       "      <th>75%</th>\n",
       "      <td>422.000000</td>\n",
       "      <td>NaN</td>\n",
       "    </tr>\n",
       "    <tr>\n",
       "      <th>max</th>\n",
       "      <td>971.000000</td>\n",
       "      <td>NaN</td>\n",
       "    </tr>\n",
       "  </tbody>\n",
       "</table>\n",
       "</div>"
      ],
      "text/plain": [
       "       Community Number  Unnamed: 6\n",
       "count        145.000000         0.0\n",
       "mean         384.068966         NaN\n",
       "std          218.663258         NaN\n",
       "min           50.000000         NaN\n",
       "25%          244.000000         NaN\n",
       "50%          337.000000         NaN\n",
       "75%          422.000000         NaN\n",
       "max          971.000000         NaN"
      ]
     },
     "execution_count": 7,
     "metadata": {},
     "output_type": "execute_result"
    }
   ],
   "source": [
    "wiki_df.describe()"
   ]
  },
  {
   "cell_type": "markdown",
   "metadata": {},
   "source": [
    "### Data Preprocessing"
   ]
  },
  {
   "cell_type": "markdown",
   "metadata": {},
   "source": [
    "##### Drop Columns"
   ]
  },
  {
   "cell_type": "code",
   "execution_count": 8,
   "metadata": {},
   "outputs": [
    {
     "data": {
      "text/plain": [
       "Index(['Community Number', 'Community (English)', 'Community (Arabic)',\n",
       "       'Area(km2)', 'Population(2000)', 'Population density(/km2)',\n",
       "       'Unnamed: 6'],\n",
       "      dtype='object')"
      ]
     },
     "execution_count": 8,
     "metadata": {},
     "output_type": "execute_result"
    }
   ],
   "source": [
    "wiki_df.columns"
   ]
  },
  {
   "cell_type": "code",
   "execution_count": 9,
   "metadata": {},
   "outputs": [],
   "source": [
    "#Drop population columns as data is 20 years old\n",
    "drop_columns = ['Community (Arabic)', 'Population(2000)', 'Population density(/km2)',\n",
    "       'Unnamed: 6']\n",
    "wiki_df = wiki_df.drop(drop_columns, axis=1)"
   ]
  },
  {
   "cell_type": "code",
   "execution_count": 10,
   "metadata": {},
   "outputs": [
    {
     "data": {
      "text/html": [
       "<div>\n",
       "<style scoped>\n",
       "    .dataframe tbody tr th:only-of-type {\n",
       "        vertical-align: middle;\n",
       "    }\n",
       "\n",
       "    .dataframe tbody tr th {\n",
       "        vertical-align: top;\n",
       "    }\n",
       "\n",
       "    .dataframe thead th {\n",
       "        text-align: right;\n",
       "    }\n",
       "</style>\n",
       "<table border=\"1\" class=\"dataframe\">\n",
       "  <thead>\n",
       "    <tr style=\"text-align: right;\">\n",
       "      <th></th>\n",
       "      <th>Community Number</th>\n",
       "      <th>Community (English)</th>\n",
       "      <th>Area(km2)</th>\n",
       "    </tr>\n",
       "  </thead>\n",
       "  <tbody>\n",
       "    <tr>\n",
       "      <th>0</th>\n",
       "      <td>126.0</td>\n",
       "      <td>Abu Hail</td>\n",
       "      <td>1.27 km²</td>\n",
       "    </tr>\n",
       "    <tr>\n",
       "      <th>1</th>\n",
       "      <td>711.0</td>\n",
       "      <td>Al Awir First</td>\n",
       "      <td>NaN</td>\n",
       "    </tr>\n",
       "    <tr>\n",
       "      <th>2</th>\n",
       "      <td>721.0</td>\n",
       "      <td>Al Awir Second</td>\n",
       "      <td>NaN</td>\n",
       "    </tr>\n",
       "    <tr>\n",
       "      <th>3</th>\n",
       "      <td>283.0</td>\n",
       "      <td>Aleyas</td>\n",
       "      <td>162.4 km2</td>\n",
       "    </tr>\n",
       "    <tr>\n",
       "      <th>4</th>\n",
       "      <td>333.0</td>\n",
       "      <td>Al Bada'a</td>\n",
       "      <td>0.82 km²</td>\n",
       "    </tr>\n",
       "  </tbody>\n",
       "</table>\n",
       "</div>"
      ],
      "text/plain": [
       "   Community Number Community (English)  Area(km2)\n",
       "0             126.0            Abu Hail   1.27 km²\n",
       "1             711.0       Al Awir First        NaN\n",
       "2             721.0      Al Awir Second        NaN\n",
       "3             283.0              Aleyas  162.4 km2\n",
       "4             333.0           Al Bada'a   0.82 km²"
      ]
     },
     "execution_count": 10,
     "metadata": {},
     "output_type": "execute_result"
    }
   ],
   "source": [
    "wiki_df.head()"
   ]
  },
  {
   "cell_type": "markdown",
   "metadata": {},
   "source": [
    "#### Rename Columns"
   ]
  },
  {
   "cell_type": "code",
   "execution_count": 11,
   "metadata": {},
   "outputs": [],
   "source": [
    "wiki_df = wiki_df.rename(columns = {'Community (English)': 'Community Name'})"
   ]
  },
  {
   "cell_type": "code",
   "execution_count": 12,
   "metadata": {},
   "outputs": [
    {
     "data": {
      "text/html": [
       "<div>\n",
       "<style scoped>\n",
       "    .dataframe tbody tr th:only-of-type {\n",
       "        vertical-align: middle;\n",
       "    }\n",
       "\n",
       "    .dataframe tbody tr th {\n",
       "        vertical-align: top;\n",
       "    }\n",
       "\n",
       "    .dataframe thead th {\n",
       "        text-align: right;\n",
       "    }\n",
       "</style>\n",
       "<table border=\"1\" class=\"dataframe\">\n",
       "  <thead>\n",
       "    <tr style=\"text-align: right;\">\n",
       "      <th></th>\n",
       "      <th>Community Number</th>\n",
       "      <th>Community Name</th>\n",
       "      <th>Area(km2)</th>\n",
       "    </tr>\n",
       "  </thead>\n",
       "  <tbody>\n",
       "    <tr>\n",
       "      <th>0</th>\n",
       "      <td>126.0</td>\n",
       "      <td>Abu Hail</td>\n",
       "      <td>1.27 km²</td>\n",
       "    </tr>\n",
       "    <tr>\n",
       "      <th>1</th>\n",
       "      <td>711.0</td>\n",
       "      <td>Al Awir First</td>\n",
       "      <td>NaN</td>\n",
       "    </tr>\n",
       "    <tr>\n",
       "      <th>2</th>\n",
       "      <td>721.0</td>\n",
       "      <td>Al Awir Second</td>\n",
       "      <td>NaN</td>\n",
       "    </tr>\n",
       "    <tr>\n",
       "      <th>3</th>\n",
       "      <td>283.0</td>\n",
       "      <td>Aleyas</td>\n",
       "      <td>162.4 km2</td>\n",
       "    </tr>\n",
       "    <tr>\n",
       "      <th>4</th>\n",
       "      <td>333.0</td>\n",
       "      <td>Al Bada'a</td>\n",
       "      <td>0.82 km²</td>\n",
       "    </tr>\n",
       "  </tbody>\n",
       "</table>\n",
       "</div>"
      ],
      "text/plain": [
       "   Community Number  Community Name  Area(km2)\n",
       "0             126.0        Abu Hail   1.27 km²\n",
       "1             711.0   Al Awir First        NaN\n",
       "2             721.0  Al Awir Second        NaN\n",
       "3             283.0          Aleyas  162.4 km2\n",
       "4             333.0       Al Bada'a   0.82 km²"
      ]
     },
     "execution_count": 12,
     "metadata": {},
     "output_type": "execute_result"
    }
   ],
   "source": [
    "wiki_df.head()"
   ]
  },
  {
   "cell_type": "markdown",
   "metadata": {},
   "source": [
    "#### Remove text from Area column"
   ]
  },
  {
   "cell_type": "code",
   "execution_count": 13,
   "metadata": {},
   "outputs": [
    {
     "name": "stdout",
     "output_type": "stream",
     "text": [
      "<class 'pandas.core.frame.DataFrame'>\n",
      "RangeIndex: 146 entries, 0 to 145\n",
      "Data columns (total 3 columns):\n",
      " #   Column            Non-Null Count  Dtype  \n",
      "---  ------            --------------  -----  \n",
      " 0   Community Number  145 non-null    float64\n",
      " 1   Community Name    146 non-null    object \n",
      " 2   Area(km2)         112 non-null    object \n",
      "dtypes: float64(1), object(2)\n",
      "memory usage: 3.5+ KB\n"
     ]
    }
   ],
   "source": [
    "wiki_df.info()"
   ]
  },
  {
   "cell_type": "code",
   "execution_count": 14,
   "metadata": {},
   "outputs": [],
   "source": [
    "wiki_df['Area(km2)'] = wiki_df['Area(km2)'].str.replace('k', ' ').str.split(' ', expand=True)"
   ]
  },
  {
   "cell_type": "code",
   "execution_count": 15,
   "metadata": {},
   "outputs": [
    {
     "data": {
      "text/html": [
       "<div>\n",
       "<style scoped>\n",
       "    .dataframe tbody tr th:only-of-type {\n",
       "        vertical-align: middle;\n",
       "    }\n",
       "\n",
       "    .dataframe tbody tr th {\n",
       "        vertical-align: top;\n",
       "    }\n",
       "\n",
       "    .dataframe thead th {\n",
       "        text-align: right;\n",
       "    }\n",
       "</style>\n",
       "<table border=\"1\" class=\"dataframe\">\n",
       "  <thead>\n",
       "    <tr style=\"text-align: right;\">\n",
       "      <th></th>\n",
       "      <th>Community Number</th>\n",
       "      <th>Community Name</th>\n",
       "      <th>Area(km2)</th>\n",
       "    </tr>\n",
       "  </thead>\n",
       "  <tbody>\n",
       "    <tr>\n",
       "      <th>0</th>\n",
       "      <td>126.0</td>\n",
       "      <td>Abu Hail</td>\n",
       "      <td>1.27</td>\n",
       "    </tr>\n",
       "    <tr>\n",
       "      <th>1</th>\n",
       "      <td>711.0</td>\n",
       "      <td>Al Awir First</td>\n",
       "      <td>NaN</td>\n",
       "    </tr>\n",
       "    <tr>\n",
       "      <th>2</th>\n",
       "      <td>721.0</td>\n",
       "      <td>Al Awir Second</td>\n",
       "      <td>NaN</td>\n",
       "    </tr>\n",
       "    <tr>\n",
       "      <th>3</th>\n",
       "      <td>283.0</td>\n",
       "      <td>Aleyas</td>\n",
       "      <td>162.4</td>\n",
       "    </tr>\n",
       "    <tr>\n",
       "      <th>4</th>\n",
       "      <td>333.0</td>\n",
       "      <td>Al Bada'a</td>\n",
       "      <td>0.82</td>\n",
       "    </tr>\n",
       "  </tbody>\n",
       "</table>\n",
       "</div>"
      ],
      "text/plain": [
       "   Community Number  Community Name Area(km2)\n",
       "0             126.0        Abu Hail      1.27\n",
       "1             711.0   Al Awir First       NaN\n",
       "2             721.0  Al Awir Second       NaN\n",
       "3             283.0          Aleyas     162.4\n",
       "4             333.0       Al Bada'a      0.82"
      ]
     },
     "execution_count": 15,
     "metadata": {},
     "output_type": "execute_result"
    }
   ],
   "source": [
    "wiki_df.head()"
   ]
  },
  {
   "cell_type": "markdown",
   "metadata": {},
   "source": [
    "#### Recast column types"
   ]
  },
  {
   "cell_type": "code",
   "execution_count": 16,
   "metadata": {},
   "outputs": [
    {
     "data": {
      "text/html": [
       "<div>\n",
       "<style scoped>\n",
       "    .dataframe tbody tr th:only-of-type {\n",
       "        vertical-align: middle;\n",
       "    }\n",
       "\n",
       "    .dataframe tbody tr th {\n",
       "        vertical-align: top;\n",
       "    }\n",
       "\n",
       "    .dataframe thead th {\n",
       "        text-align: right;\n",
       "    }\n",
       "</style>\n",
       "<table border=\"1\" class=\"dataframe\">\n",
       "  <thead>\n",
       "    <tr style=\"text-align: right;\">\n",
       "      <th></th>\n",
       "      <th>Community Number</th>\n",
       "      <th>Community Name</th>\n",
       "      <th>Area(km2)</th>\n",
       "    </tr>\n",
       "  </thead>\n",
       "  <tbody>\n",
       "    <tr>\n",
       "      <th>84</th>\n",
       "      <td>NaN</td>\n",
       "      <td>Downtown Dubai</td>\n",
       "      <td>2.68</td>\n",
       "    </tr>\n",
       "  </tbody>\n",
       "</table>\n",
       "</div>"
      ],
      "text/plain": [
       "    Community Number  Community Name Area(km2)\n",
       "84               NaN  Downtown Dubai      2.68"
      ]
     },
     "execution_count": 16,
     "metadata": {},
     "output_type": "execute_result"
    }
   ],
   "source": [
    "nan_community_number = wiki_df.loc[wiki_df['Community Name'] == 'Downtown Dubai']\n",
    "nan_community_number"
   ]
  },
  {
   "cell_type": "code",
   "execution_count": 17,
   "metadata": {},
   "outputs": [],
   "source": [
    "wiki_df = wiki_df.drop(nan_community_number.index, axis = 0)"
   ]
  },
  {
   "cell_type": "code",
   "execution_count": 18,
   "metadata": {},
   "outputs": [
    {
     "data": {
      "text/html": [
       "<div>\n",
       "<style scoped>\n",
       "    .dataframe tbody tr th:only-of-type {\n",
       "        vertical-align: middle;\n",
       "    }\n",
       "\n",
       "    .dataframe tbody tr th {\n",
       "        vertical-align: top;\n",
       "    }\n",
       "\n",
       "    .dataframe thead th {\n",
       "        text-align: right;\n",
       "    }\n",
       "</style>\n",
       "<table border=\"1\" class=\"dataframe\">\n",
       "  <thead>\n",
       "    <tr style=\"text-align: right;\">\n",
       "      <th></th>\n",
       "      <th>Community Number</th>\n",
       "      <th>Community Name</th>\n",
       "      <th>Area(km2)</th>\n",
       "    </tr>\n",
       "  </thead>\n",
       "  <tbody>\n",
       "  </tbody>\n",
       "</table>\n",
       "</div>"
      ],
      "text/plain": [
       "Empty DataFrame\n",
       "Columns: [Community Number, Community Name, Area(km2)]\n",
       "Index: []"
      ]
     },
     "execution_count": 18,
     "metadata": {},
     "output_type": "execute_result"
    }
   ],
   "source": [
    "nan_community_number = wiki_df.loc[wiki_df['Community Name'] == 'Downtown Dubai']\n",
    "nan_community_number"
   ]
  },
  {
   "cell_type": "code",
   "execution_count": 19,
   "metadata": {},
   "outputs": [],
   "source": [
    "wiki_df = wiki_df.astype({\"Community Number\":'int64', \"Area(km2)\":'float'}) "
   ]
  },
  {
   "cell_type": "code",
   "execution_count": 20,
   "metadata": {},
   "outputs": [
    {
     "data": {
      "text/html": [
       "<div>\n",
       "<style scoped>\n",
       "    .dataframe tbody tr th:only-of-type {\n",
       "        vertical-align: middle;\n",
       "    }\n",
       "\n",
       "    .dataframe tbody tr th {\n",
       "        vertical-align: top;\n",
       "    }\n",
       "\n",
       "    .dataframe thead th {\n",
       "        text-align: right;\n",
       "    }\n",
       "</style>\n",
       "<table border=\"1\" class=\"dataframe\">\n",
       "  <thead>\n",
       "    <tr style=\"text-align: right;\">\n",
       "      <th></th>\n",
       "      <th>Community Number</th>\n",
       "      <th>Community Name</th>\n",
       "      <th>Area(km2)</th>\n",
       "    </tr>\n",
       "  </thead>\n",
       "  <tbody>\n",
       "    <tr>\n",
       "      <th>0</th>\n",
       "      <td>126</td>\n",
       "      <td>Abu Hail</td>\n",
       "      <td>1.27</td>\n",
       "    </tr>\n",
       "    <tr>\n",
       "      <th>1</th>\n",
       "      <td>711</td>\n",
       "      <td>Al Awir First</td>\n",
       "      <td>NaN</td>\n",
       "    </tr>\n",
       "    <tr>\n",
       "      <th>2</th>\n",
       "      <td>721</td>\n",
       "      <td>Al Awir Second</td>\n",
       "      <td>NaN</td>\n",
       "    </tr>\n",
       "    <tr>\n",
       "      <th>3</th>\n",
       "      <td>283</td>\n",
       "      <td>Aleyas</td>\n",
       "      <td>162.40</td>\n",
       "    </tr>\n",
       "    <tr>\n",
       "      <th>4</th>\n",
       "      <td>333</td>\n",
       "      <td>Al Bada'a</td>\n",
       "      <td>0.82</td>\n",
       "    </tr>\n",
       "  </tbody>\n",
       "</table>\n",
       "</div>"
      ],
      "text/plain": [
       "   Community Number  Community Name  Area(km2)\n",
       "0               126        Abu Hail       1.27\n",
       "1               711   Al Awir First        NaN\n",
       "2               721  Al Awir Second        NaN\n",
       "3               283          Aleyas     162.40\n",
       "4               333       Al Bada'a       0.82"
      ]
     },
     "execution_count": 20,
     "metadata": {},
     "output_type": "execute_result"
    }
   ],
   "source": [
    "wiki_df.head()"
   ]
  },
  {
   "cell_type": "markdown",
   "metadata": {},
   "source": [
    "### Save Dataset as CSV"
   ]
  },
  {
   "cell_type": "code",
   "execution_count": 21,
   "metadata": {},
   "outputs": [],
   "source": [
    "path = 'wiki_dubai_communities.csv'\n",
    "wiki_df.to_csv(path, index=False)"
   ]
  },
  {
   "cell_type": "code",
   "execution_count": null,
   "metadata": {},
   "outputs": [],
   "source": []
  },
  {
   "cell_type": "markdown",
   "metadata": {},
   "source": [
    "## Dubai FoursquareAPI Venue Dataset"
   ]
  },
  {
   "cell_type": "markdown",
   "metadata": {},
   "source": [
    "#### Import Data JSON from foursquare API"
   ]
  },
  {
   "cell_type": "markdown",
   "metadata": {},
   "source": [
    "##### API Access Details"
   ]
  },
  {
   "cell_type": "code",
   "execution_count": 22,
   "metadata": {
    "button": false,
    "collapsed": false,
    "jupyter": {
     "outputs_hidden": false
    },
    "new_sheet": false,
    "run_control": {
     "read_only": false
    }
   },
   "outputs": [],
   "source": [
    "CLIENT_ID = CLIENT_ID_\n",
    "CLIENT_SECRET = CLIENT_SECRET_\n",
    "VERSION = '20201120'"
   ]
  },
  {
   "cell_type": "markdown",
   "metadata": {},
   "source": [
    "##### Parameters"
   ]
  },
  {
   "cell_type": "code",
   "execution_count": 23,
   "metadata": {},
   "outputs": [],
   "source": [
    "lat, long = 25.276987, 55.296249\n",
    "radius = 100000\n",
    "LIMIT = 100000"
   ]
  },
  {
   "cell_type": "markdown",
   "metadata": {
    "button": false,
    "new_sheet": false,
    "run_control": {
     "read_only": false
    }
   },
   "source": [
    "##### Define URL & Get JSON"
   ]
  },
  {
   "cell_type": "code",
   "execution_count": 24,
   "metadata": {
    "button": false,
    "collapsed": false,
    "jupyter": {
     "outputs_hidden": false
    },
    "new_sheet": false,
    "run_control": {
     "read_only": false
    }
   },
   "outputs": [],
   "source": [
    "url = 'https://api.foursquare.com/v2/venues/explore?client_id={}&client_secret={}&ll={},{}&v={}&radius={}&limit={}' \\\n",
    ".format(CLIENT_ID, CLIENT_SECRET, lat, long, VERSION, radius, LIMIT)"
   ]
  },
  {
   "cell_type": "code",
   "execution_count": 25,
   "metadata": {},
   "outputs": [],
   "source": [
    "results = requests.get(url).json()"
   ]
  },
  {
   "cell_type": "markdown",
   "metadata": {},
   "source": [
    "### JSON to Pandas"
   ]
  },
  {
   "cell_type": "code",
   "execution_count": 26,
   "metadata": {},
   "outputs": [
    {
     "data": {
      "text/html": [
       "<div>\n",
       "<style scoped>\n",
       "    .dataframe tbody tr th:only-of-type {\n",
       "        vertical-align: middle;\n",
       "    }\n",
       "\n",
       "    .dataframe tbody tr th {\n",
       "        vertical-align: top;\n",
       "    }\n",
       "\n",
       "    .dataframe thead th {\n",
       "        text-align: right;\n",
       "    }\n",
       "</style>\n",
       "<table border=\"1\" class=\"dataframe\">\n",
       "  <thead>\n",
       "    <tr style=\"text-align: right;\">\n",
       "      <th></th>\n",
       "      <th>referralId</th>\n",
       "      <th>reasons.count</th>\n",
       "      <th>reasons.items</th>\n",
       "      <th>venue.id</th>\n",
       "      <th>venue.name</th>\n",
       "      <th>venue.location.address</th>\n",
       "      <th>venue.location.lat</th>\n",
       "      <th>venue.location.lng</th>\n",
       "      <th>venue.location.labeledLatLngs</th>\n",
       "      <th>venue.location.distance</th>\n",
       "      <th>venue.location.cc</th>\n",
       "      <th>venue.location.neighborhood</th>\n",
       "      <th>venue.location.city</th>\n",
       "      <th>venue.location.state</th>\n",
       "      <th>venue.location.country</th>\n",
       "      <th>venue.location.formattedAddress</th>\n",
       "      <th>venue.categories</th>\n",
       "      <th>venue.photos.count</th>\n",
       "      <th>venue.photos.groups</th>\n",
       "      <th>venue.location.crossStreet</th>\n",
       "      <th>venue.location.postalCode</th>\n",
       "      <th>venue.venuePage.id</th>\n",
       "    </tr>\n",
       "  </thead>\n",
       "  <tbody>\n",
       "    <tr>\n",
       "      <th>0</th>\n",
       "      <td>e-0-508e4b2ae4b01ceeb4ae3d37-0</td>\n",
       "      <td>0</td>\n",
       "      <td>[{'summary': 'This spot is popular', 'type': 'general', 'reasonName': 'globalInteractionReason'}]</td>\n",
       "      <td>508e4b2ae4b01ceeb4ae3d37</td>\n",
       "      <td>Arabian Tea House Cafe (كافية بيت الشاي العربي)</td>\n",
       "      <td>Al Fahidi St</td>\n",
       "      <td>25.263399</td>\n",
       "      <td>55.299695</td>\n",
       "      <td>[{'label': 'display', 'lat': 25.26339894786175, 'lng': 55.29969492240867}]</td>\n",
       "      <td>1551</td>\n",
       "      <td>AE</td>\n",
       "      <td>Al Souk Al Kabir</td>\n",
       "      <td>دبي</td>\n",
       "      <td>دبي</td>\n",
       "      <td>الإمارات العربية المتحدة</td>\n",
       "      <td>[Al Fahidi St, دبي, الإمارات العربية المتحدة]</td>\n",
       "      <td>[{'id': '4bf58dd8d48988d1dc931735', 'name': 'Tea Room', 'pluralName': 'Tea Rooms', 'shortName': 'Tea Room', 'icon': {'prefix': 'https://ss3.4sqi.net/img/categories_v2/food/tearoom_', 'suffix': '.png'}, 'primary': True}]</td>\n",
       "      <td>0</td>\n",
       "      <td>[]</td>\n",
       "      <td>NaN</td>\n",
       "      <td>NaN</td>\n",
       "      <td>NaN</td>\n",
       "    </tr>\n",
       "    <tr>\n",
       "      <th>1</th>\n",
       "      <td>e-0-4b7d809af964a520c2c22fe3-1</td>\n",
       "      <td>0</td>\n",
       "      <td>[{'summary': 'This spot is popular', 'type': 'general', 'reasonName': 'globalInteractionReason'}]</td>\n",
       "      <td>4b7d809af964a520c2c22fe3</td>\n",
       "      <td>Special Ostadi Kabab (مطعم الأستاد للكباب الخاص)</td>\n",
       "      <td>At Mankhool Rd</td>\n",
       "      <td>25.259961</td>\n",
       "      <td>55.298940</td>\n",
       "      <td>[{'label': 'display', 'lat': 25.259961, 'lng': 55.29894}]</td>\n",
       "      <td>1914</td>\n",
       "      <td>AE</td>\n",
       "      <td>Al Hamriya</td>\n",
       "      <td>دبي</td>\n",
       "      <td>دبي</td>\n",
       "      <td>الإمارات العربية المتحدة</td>\n",
       "      <td>[At Mankhool Rd (Al Monirah St), دبي, الإمارات العربية المتحدة]</td>\n",
       "      <td>[{'id': '52e81612bcbc57f1066b79f7', 'name': 'Persian Restaurant', 'pluralName': 'Persian Restaurants', 'shortName': 'Persian', 'icon': {'prefix': 'https://ss3.4sqi.net/img/categories_v2/food/middleeastern_', 'suffix': '.png'}, 'primary': True}]</td>\n",
       "      <td>0</td>\n",
       "      <td>[]</td>\n",
       "      <td>Al Monirah St</td>\n",
       "      <td>NaN</td>\n",
       "      <td>NaN</td>\n",
       "    </tr>\n",
       "    <tr>\n",
       "      <th>2</th>\n",
       "      <td>e-0-5866b18245c3ed1e7db9931d-2</td>\n",
       "      <td>0</td>\n",
       "      <td>[{'summary': 'This spot is popular', 'type': 'general', 'reasonName': 'globalInteractionReason'}]</td>\n",
       "      <td>5866b18245c3ed1e7db9931d</td>\n",
       "      <td>Nikki Beach Club</td>\n",
       "      <td>Pearl Jumeirah</td>\n",
       "      <td>25.248306</td>\n",
       "      <td>55.256939</td>\n",
       "      <td>[{'label': 'display', 'lat': 25.248305850634996, 'lng': 55.25693893432617}]</td>\n",
       "      <td>5084</td>\n",
       "      <td>AE</td>\n",
       "      <td>NaN</td>\n",
       "      <td>دبي</td>\n",
       "      <td>دبي</td>\n",
       "      <td>الإمارات العربية المتحدة</td>\n",
       "      <td>[Pearl Jumeirah, دبي, الإمارات العربية المتحدة]</td>\n",
       "      <td>[{'id': '52e81612bcbc57f1066b7a0d', 'name': 'Beach Bar', 'pluralName': 'Beach Bars', 'shortName': 'Beach Bar', 'icon': {'prefix': 'https://ss3.4sqi.net/img/categories_v2/nightlife/default_', 'suffix': '.png'}, 'primary': True}]</td>\n",
       "      <td>0</td>\n",
       "      <td>[]</td>\n",
       "      <td>NaN</td>\n",
       "      <td>NaN</td>\n",
       "      <td>NaN</td>\n",
       "    </tr>\n",
       "  </tbody>\n",
       "</table>\n",
       "</div>"
      ],
      "text/plain": [
       "                       referralId  reasons.count  \\\n",
       "0  e-0-508e4b2ae4b01ceeb4ae3d37-0              0   \n",
       "1  e-0-4b7d809af964a520c2c22fe3-1              0   \n",
       "2  e-0-5866b18245c3ed1e7db9931d-2              0   \n",
       "\n",
       "                                                                                       reasons.items  \\\n",
       "0  [{'summary': 'This spot is popular', 'type': 'general', 'reasonName': 'globalInteractionReason'}]   \n",
       "1  [{'summary': 'This spot is popular', 'type': 'general', 'reasonName': 'globalInteractionReason'}]   \n",
       "2  [{'summary': 'This spot is popular', 'type': 'general', 'reasonName': 'globalInteractionReason'}]   \n",
       "\n",
       "                   venue.id                                        venue.name  \\\n",
       "0  508e4b2ae4b01ceeb4ae3d37   Arabian Tea House Cafe (كافية بيت الشاي العربي)   \n",
       "1  4b7d809af964a520c2c22fe3  Special Ostadi Kabab (مطعم الأستاد للكباب الخاص)   \n",
       "2  5866b18245c3ed1e7db9931d                                  Nikki Beach Club   \n",
       "\n",
       "  venue.location.address  venue.location.lat  venue.location.lng  \\\n",
       "0           Al Fahidi St           25.263399           55.299695   \n",
       "1         At Mankhool Rd           25.259961           55.298940   \n",
       "2         Pearl Jumeirah           25.248306           55.256939   \n",
       "\n",
       "                                                 venue.location.labeledLatLngs  \\\n",
       "0   [{'label': 'display', 'lat': 25.26339894786175, 'lng': 55.29969492240867}]   \n",
       "1                    [{'label': 'display', 'lat': 25.259961, 'lng': 55.29894}]   \n",
       "2  [{'label': 'display', 'lat': 25.248305850634996, 'lng': 55.25693893432617}]   \n",
       "\n",
       "   venue.location.distance venue.location.cc venue.location.neighborhood  \\\n",
       "0                     1551                AE            Al Souk Al Kabir   \n",
       "1                     1914                AE                  Al Hamriya   \n",
       "2                     5084                AE                         NaN   \n",
       "\n",
       "  venue.location.city venue.location.state    venue.location.country  \\\n",
       "0                 دبي                  دبي  الإمارات العربية المتحدة   \n",
       "1                 دبي                  دبي  الإمارات العربية المتحدة   \n",
       "2                 دبي                  دبي  الإمارات العربية المتحدة   \n",
       "\n",
       "                                   venue.location.formattedAddress  \\\n",
       "0                    [Al Fahidi St, دبي, الإمارات العربية المتحدة]   \n",
       "1  [At Mankhool Rd (Al Monirah St), دبي, الإمارات العربية المتحدة]   \n",
       "2                  [Pearl Jumeirah, دبي, الإمارات العربية المتحدة]   \n",
       "\n",
       "                                                                                                                                                                                                                                       venue.categories  \\\n",
       "0                           [{'id': '4bf58dd8d48988d1dc931735', 'name': 'Tea Room', 'pluralName': 'Tea Rooms', 'shortName': 'Tea Room', 'icon': {'prefix': 'https://ss3.4sqi.net/img/categories_v2/food/tearoom_', 'suffix': '.png'}, 'primary': True}]   \n",
       "1  [{'id': '52e81612bcbc57f1066b79f7', 'name': 'Persian Restaurant', 'pluralName': 'Persian Restaurants', 'shortName': 'Persian', 'icon': {'prefix': 'https://ss3.4sqi.net/img/categories_v2/food/middleeastern_', 'suffix': '.png'}, 'primary': True}]   \n",
       "2                   [{'id': '52e81612bcbc57f1066b7a0d', 'name': 'Beach Bar', 'pluralName': 'Beach Bars', 'shortName': 'Beach Bar', 'icon': {'prefix': 'https://ss3.4sqi.net/img/categories_v2/nightlife/default_', 'suffix': '.png'}, 'primary': True}]   \n",
       "\n",
       "   venue.photos.count venue.photos.groups venue.location.crossStreet  \\\n",
       "0                   0                  []                        NaN   \n",
       "1                   0                  []              Al Monirah St   \n",
       "2                   0                  []                        NaN   \n",
       "\n",
       "  venue.location.postalCode venue.venuePage.id  \n",
       "0                       NaN                NaN  \n",
       "1                       NaN                NaN  \n",
       "2                       NaN                NaN  "
      ]
     },
     "execution_count": 26,
     "metadata": {},
     "output_type": "execute_result"
    }
   ],
   "source": [
    "venues_df = results['response']['groups'][0]['items']\n",
    "venues_df = json_normalize(venues_df)\n",
    "venues_df.head(3)"
   ]
  },
  {
   "cell_type": "markdown",
   "metadata": {},
   "source": [
    "#### Create Categories Column"
   ]
  },
  {
   "cell_type": "code",
   "execution_count": 27,
   "metadata": {},
   "outputs": [],
   "source": [
    "# function that extracts the category of the venue\n",
    "def get_category_type(row):\n",
    "    try:\n",
    "        categories_list = row['categories']\n",
    "    except:\n",
    "        categories_list = row['venue.categories']\n",
    "        \n",
    "    if len(categories_list) == 0:\n",
    "        return None\n",
    "    else:\n",
    "        return categories_list[0]['name']"
   ]
  },
  {
   "cell_type": "code",
   "execution_count": 28,
   "metadata": {},
   "outputs": [],
   "source": [
    "venues_df['categories'] = venues_df.apply(get_category_type, axis=1)"
   ]
  },
  {
   "cell_type": "code",
   "execution_count": 29,
   "metadata": {},
   "outputs": [
    {
     "data": {
      "text/html": [
       "<div>\n",
       "<style scoped>\n",
       "    .dataframe tbody tr th:only-of-type {\n",
       "        vertical-align: middle;\n",
       "    }\n",
       "\n",
       "    .dataframe tbody tr th {\n",
       "        vertical-align: top;\n",
       "    }\n",
       "\n",
       "    .dataframe thead th {\n",
       "        text-align: right;\n",
       "    }\n",
       "</style>\n",
       "<table border=\"1\" class=\"dataframe\">\n",
       "  <thead>\n",
       "    <tr style=\"text-align: right;\">\n",
       "      <th></th>\n",
       "      <th>referralId</th>\n",
       "      <th>reasons.count</th>\n",
       "      <th>reasons.items</th>\n",
       "      <th>venue.id</th>\n",
       "      <th>venue.name</th>\n",
       "      <th>venue.location.address</th>\n",
       "      <th>venue.location.lat</th>\n",
       "      <th>venue.location.lng</th>\n",
       "      <th>venue.location.labeledLatLngs</th>\n",
       "      <th>venue.location.distance</th>\n",
       "      <th>venue.location.cc</th>\n",
       "      <th>venue.location.neighborhood</th>\n",
       "      <th>venue.location.city</th>\n",
       "      <th>venue.location.state</th>\n",
       "      <th>venue.location.country</th>\n",
       "      <th>venue.location.formattedAddress</th>\n",
       "      <th>venue.categories</th>\n",
       "      <th>venue.photos.count</th>\n",
       "      <th>venue.photos.groups</th>\n",
       "      <th>venue.location.crossStreet</th>\n",
       "      <th>venue.location.postalCode</th>\n",
       "      <th>venue.venuePage.id</th>\n",
       "      <th>categories</th>\n",
       "    </tr>\n",
       "  </thead>\n",
       "  <tbody>\n",
       "    <tr>\n",
       "      <th>0</th>\n",
       "      <td>e-0-508e4b2ae4b01ceeb4ae3d37-0</td>\n",
       "      <td>0</td>\n",
       "      <td>[{'summary': 'This spot is popular', 'type': 'general', 'reasonName': 'globalInteractionReason'}]</td>\n",
       "      <td>508e4b2ae4b01ceeb4ae3d37</td>\n",
       "      <td>Arabian Tea House Cafe (كافية بيت الشاي العربي)</td>\n",
       "      <td>Al Fahidi St</td>\n",
       "      <td>25.263399</td>\n",
       "      <td>55.299695</td>\n",
       "      <td>[{'label': 'display', 'lat': 25.26339894786175, 'lng': 55.29969492240867}]</td>\n",
       "      <td>1551</td>\n",
       "      <td>AE</td>\n",
       "      <td>Al Souk Al Kabir</td>\n",
       "      <td>دبي</td>\n",
       "      <td>دبي</td>\n",
       "      <td>الإمارات العربية المتحدة</td>\n",
       "      <td>[Al Fahidi St, دبي, الإمارات العربية المتحدة]</td>\n",
       "      <td>[{'id': '4bf58dd8d48988d1dc931735', 'name': 'Tea Room', 'pluralName': 'Tea Rooms', 'shortName': 'Tea Room', 'icon': {'prefix': 'https://ss3.4sqi.net/img/categories_v2/food/tearoom_', 'suffix': '.png'}, 'primary': True}]</td>\n",
       "      <td>0</td>\n",
       "      <td>[]</td>\n",
       "      <td>NaN</td>\n",
       "      <td>NaN</td>\n",
       "      <td>NaN</td>\n",
       "      <td>Tea Room</td>\n",
       "    </tr>\n",
       "    <tr>\n",
       "      <th>1</th>\n",
       "      <td>e-0-4b7d809af964a520c2c22fe3-1</td>\n",
       "      <td>0</td>\n",
       "      <td>[{'summary': 'This spot is popular', 'type': 'general', 'reasonName': 'globalInteractionReason'}]</td>\n",
       "      <td>4b7d809af964a520c2c22fe3</td>\n",
       "      <td>Special Ostadi Kabab (مطعم الأستاد للكباب الخاص)</td>\n",
       "      <td>At Mankhool Rd</td>\n",
       "      <td>25.259961</td>\n",
       "      <td>55.298940</td>\n",
       "      <td>[{'label': 'display', 'lat': 25.259961, 'lng': 55.29894}]</td>\n",
       "      <td>1914</td>\n",
       "      <td>AE</td>\n",
       "      <td>Al Hamriya</td>\n",
       "      <td>دبي</td>\n",
       "      <td>دبي</td>\n",
       "      <td>الإمارات العربية المتحدة</td>\n",
       "      <td>[At Mankhool Rd (Al Monirah St), دبي, الإمارات العربية المتحدة]</td>\n",
       "      <td>[{'id': '52e81612bcbc57f1066b79f7', 'name': 'Persian Restaurant', 'pluralName': 'Persian Restaurants', 'shortName': 'Persian', 'icon': {'prefix': 'https://ss3.4sqi.net/img/categories_v2/food/middleeastern_', 'suffix': '.png'}, 'primary': True}]</td>\n",
       "      <td>0</td>\n",
       "      <td>[]</td>\n",
       "      <td>Al Monirah St</td>\n",
       "      <td>NaN</td>\n",
       "      <td>NaN</td>\n",
       "      <td>Persian Restaurant</td>\n",
       "    </tr>\n",
       "    <tr>\n",
       "      <th>2</th>\n",
       "      <td>e-0-5866b18245c3ed1e7db9931d-2</td>\n",
       "      <td>0</td>\n",
       "      <td>[{'summary': 'This spot is popular', 'type': 'general', 'reasonName': 'globalInteractionReason'}]</td>\n",
       "      <td>5866b18245c3ed1e7db9931d</td>\n",
       "      <td>Nikki Beach Club</td>\n",
       "      <td>Pearl Jumeirah</td>\n",
       "      <td>25.248306</td>\n",
       "      <td>55.256939</td>\n",
       "      <td>[{'label': 'display', 'lat': 25.248305850634996, 'lng': 55.25693893432617}]</td>\n",
       "      <td>5084</td>\n",
       "      <td>AE</td>\n",
       "      <td>NaN</td>\n",
       "      <td>دبي</td>\n",
       "      <td>دبي</td>\n",
       "      <td>الإمارات العربية المتحدة</td>\n",
       "      <td>[Pearl Jumeirah, دبي, الإمارات العربية المتحدة]</td>\n",
       "      <td>[{'id': '52e81612bcbc57f1066b7a0d', 'name': 'Beach Bar', 'pluralName': 'Beach Bars', 'shortName': 'Beach Bar', 'icon': {'prefix': 'https://ss3.4sqi.net/img/categories_v2/nightlife/default_', 'suffix': '.png'}, 'primary': True}]</td>\n",
       "      <td>0</td>\n",
       "      <td>[]</td>\n",
       "      <td>NaN</td>\n",
       "      <td>NaN</td>\n",
       "      <td>NaN</td>\n",
       "      <td>Beach Bar</td>\n",
       "    </tr>\n",
       "  </tbody>\n",
       "</table>\n",
       "</div>"
      ],
      "text/plain": [
       "                       referralId  reasons.count  \\\n",
       "0  e-0-508e4b2ae4b01ceeb4ae3d37-0              0   \n",
       "1  e-0-4b7d809af964a520c2c22fe3-1              0   \n",
       "2  e-0-5866b18245c3ed1e7db9931d-2              0   \n",
       "\n",
       "                                                                                       reasons.items  \\\n",
       "0  [{'summary': 'This spot is popular', 'type': 'general', 'reasonName': 'globalInteractionReason'}]   \n",
       "1  [{'summary': 'This spot is popular', 'type': 'general', 'reasonName': 'globalInteractionReason'}]   \n",
       "2  [{'summary': 'This spot is popular', 'type': 'general', 'reasonName': 'globalInteractionReason'}]   \n",
       "\n",
       "                   venue.id                                        venue.name  \\\n",
       "0  508e4b2ae4b01ceeb4ae3d37   Arabian Tea House Cafe (كافية بيت الشاي العربي)   \n",
       "1  4b7d809af964a520c2c22fe3  Special Ostadi Kabab (مطعم الأستاد للكباب الخاص)   \n",
       "2  5866b18245c3ed1e7db9931d                                  Nikki Beach Club   \n",
       "\n",
       "  venue.location.address  venue.location.lat  venue.location.lng  \\\n",
       "0           Al Fahidi St           25.263399           55.299695   \n",
       "1         At Mankhool Rd           25.259961           55.298940   \n",
       "2         Pearl Jumeirah           25.248306           55.256939   \n",
       "\n",
       "                                                 venue.location.labeledLatLngs  \\\n",
       "0   [{'label': 'display', 'lat': 25.26339894786175, 'lng': 55.29969492240867}]   \n",
       "1                    [{'label': 'display', 'lat': 25.259961, 'lng': 55.29894}]   \n",
       "2  [{'label': 'display', 'lat': 25.248305850634996, 'lng': 55.25693893432617}]   \n",
       "\n",
       "   venue.location.distance venue.location.cc venue.location.neighborhood  \\\n",
       "0                     1551                AE            Al Souk Al Kabir   \n",
       "1                     1914                AE                  Al Hamriya   \n",
       "2                     5084                AE                         NaN   \n",
       "\n",
       "  venue.location.city venue.location.state    venue.location.country  \\\n",
       "0                 دبي                  دبي  الإمارات العربية المتحدة   \n",
       "1                 دبي                  دبي  الإمارات العربية المتحدة   \n",
       "2                 دبي                  دبي  الإمارات العربية المتحدة   \n",
       "\n",
       "                                   venue.location.formattedAddress  \\\n",
       "0                    [Al Fahidi St, دبي, الإمارات العربية المتحدة]   \n",
       "1  [At Mankhool Rd (Al Monirah St), دبي, الإمارات العربية المتحدة]   \n",
       "2                  [Pearl Jumeirah, دبي, الإمارات العربية المتحدة]   \n",
       "\n",
       "                                                                                                                                                                                                                                       venue.categories  \\\n",
       "0                           [{'id': '4bf58dd8d48988d1dc931735', 'name': 'Tea Room', 'pluralName': 'Tea Rooms', 'shortName': 'Tea Room', 'icon': {'prefix': 'https://ss3.4sqi.net/img/categories_v2/food/tearoom_', 'suffix': '.png'}, 'primary': True}]   \n",
       "1  [{'id': '52e81612bcbc57f1066b79f7', 'name': 'Persian Restaurant', 'pluralName': 'Persian Restaurants', 'shortName': 'Persian', 'icon': {'prefix': 'https://ss3.4sqi.net/img/categories_v2/food/middleeastern_', 'suffix': '.png'}, 'primary': True}]   \n",
       "2                   [{'id': '52e81612bcbc57f1066b7a0d', 'name': 'Beach Bar', 'pluralName': 'Beach Bars', 'shortName': 'Beach Bar', 'icon': {'prefix': 'https://ss3.4sqi.net/img/categories_v2/nightlife/default_', 'suffix': '.png'}, 'primary': True}]   \n",
       "\n",
       "   venue.photos.count venue.photos.groups venue.location.crossStreet  \\\n",
       "0                   0                  []                        NaN   \n",
       "1                   0                  []              Al Monirah St   \n",
       "2                   0                  []                        NaN   \n",
       "\n",
       "  venue.location.postalCode venue.venuePage.id          categories  \n",
       "0                       NaN                NaN            Tea Room  \n",
       "1                       NaN                NaN  Persian Restaurant  \n",
       "2                       NaN                NaN           Beach Bar  "
      ]
     },
     "execution_count": 29,
     "metadata": {},
     "output_type": "execute_result"
    }
   ],
   "source": [
    "venues_df.head(3)"
   ]
  },
  {
   "cell_type": "markdown",
   "metadata": {},
   "source": [
    "### Drop Unneeded Columns"
   ]
  },
  {
   "cell_type": "code",
   "execution_count": 30,
   "metadata": {},
   "outputs": [
    {
     "data": {
      "text/plain": [
       "Index(['referralId', 'reasons.count', 'reasons.items', 'venue.id',\n",
       "       'venue.name', 'venue.location.address', 'venue.location.lat',\n",
       "       'venue.location.lng', 'venue.location.labeledLatLngs',\n",
       "       'venue.location.distance', 'venue.location.cc',\n",
       "       'venue.location.neighborhood', 'venue.location.city',\n",
       "       'venue.location.state', 'venue.location.country',\n",
       "       'venue.location.formattedAddress', 'venue.categories',\n",
       "       'venue.photos.count', 'venue.photos.groups',\n",
       "       'venue.location.crossStreet', 'venue.location.postalCode',\n",
       "       'venue.venuePage.id', 'categories'],\n",
       "      dtype='object')"
      ]
     },
     "execution_count": 30,
     "metadata": {},
     "output_type": "execute_result"
    }
   ],
   "source": [
    "venues_df.columns"
   ]
  },
  {
   "cell_type": "code",
   "execution_count": 31,
   "metadata": {},
   "outputs": [],
   "source": [
    "keep_columns = [\n",
    "       'venue.id',\n",
    "       'venue.name', 'venue.location.address', \n",
    "       'venue.location.lat', 'venue.location.lng', \n",
    "       'venue.location.cc',\n",
    "       'venue.location.neighborhood', 'venue.location.city',\n",
    "       'venue.location.state',\n",
    "       'categories'\n",
    "               ]"
   ]
  },
  {
   "cell_type": "code",
   "execution_count": 32,
   "metadata": {},
   "outputs": [],
   "source": [
    "venues_df = venues_df[keep_columns]"
   ]
  },
  {
   "cell_type": "code",
   "execution_count": 33,
   "metadata": {},
   "outputs": [
    {
     "data": {
      "text/html": [
       "<div>\n",
       "<style scoped>\n",
       "    .dataframe tbody tr th:only-of-type {\n",
       "        vertical-align: middle;\n",
       "    }\n",
       "\n",
       "    .dataframe tbody tr th {\n",
       "        vertical-align: top;\n",
       "    }\n",
       "\n",
       "    .dataframe thead th {\n",
       "        text-align: right;\n",
       "    }\n",
       "</style>\n",
       "<table border=\"1\" class=\"dataframe\">\n",
       "  <thead>\n",
       "    <tr style=\"text-align: right;\">\n",
       "      <th></th>\n",
       "      <th>venue.id</th>\n",
       "      <th>venue.name</th>\n",
       "      <th>venue.location.address</th>\n",
       "      <th>venue.location.lat</th>\n",
       "      <th>venue.location.lng</th>\n",
       "      <th>venue.location.cc</th>\n",
       "      <th>venue.location.neighborhood</th>\n",
       "      <th>venue.location.city</th>\n",
       "      <th>venue.location.state</th>\n",
       "      <th>categories</th>\n",
       "    </tr>\n",
       "  </thead>\n",
       "  <tbody>\n",
       "    <tr>\n",
       "      <th>0</th>\n",
       "      <td>508e4b2ae4b01ceeb4ae3d37</td>\n",
       "      <td>Arabian Tea House Cafe (كافية بيت الشاي العربي)</td>\n",
       "      <td>Al Fahidi St</td>\n",
       "      <td>25.263399</td>\n",
       "      <td>55.299695</td>\n",
       "      <td>AE</td>\n",
       "      <td>Al Souk Al Kabir</td>\n",
       "      <td>دبي</td>\n",
       "      <td>دبي</td>\n",
       "      <td>Tea Room</td>\n",
       "    </tr>\n",
       "    <tr>\n",
       "      <th>1</th>\n",
       "      <td>4b7d809af964a520c2c22fe3</td>\n",
       "      <td>Special Ostadi Kabab (مطعم الأستاد للكباب الخاص)</td>\n",
       "      <td>At Mankhool Rd</td>\n",
       "      <td>25.259961</td>\n",
       "      <td>55.298940</td>\n",
       "      <td>AE</td>\n",
       "      <td>Al Hamriya</td>\n",
       "      <td>دبي</td>\n",
       "      <td>دبي</td>\n",
       "      <td>Persian Restaurant</td>\n",
       "    </tr>\n",
       "    <tr>\n",
       "      <th>2</th>\n",
       "      <td>5866b18245c3ed1e7db9931d</td>\n",
       "      <td>Nikki Beach Club</td>\n",
       "      <td>Pearl Jumeirah</td>\n",
       "      <td>25.248306</td>\n",
       "      <td>55.256939</td>\n",
       "      <td>AE</td>\n",
       "      <td>NaN</td>\n",
       "      <td>دبي</td>\n",
       "      <td>دبي</td>\n",
       "      <td>Beach Bar</td>\n",
       "    </tr>\n",
       "    <tr>\n",
       "      <th>3</th>\n",
       "      <td>556291a3498e3237b9ddf800</td>\n",
       "      <td>Fitness Time (وقت اللياقة)</td>\n",
       "      <td>NaN</td>\n",
       "      <td>25.289077</td>\n",
       "      <td>55.347913</td>\n",
       "      <td>AE</td>\n",
       "      <td>NaN</td>\n",
       "      <td>دبي</td>\n",
       "      <td>دبي</td>\n",
       "      <td>Gym</td>\n",
       "    </tr>\n",
       "    <tr>\n",
       "      <th>4</th>\n",
       "      <td>5a057657065ef54fbdec2747</td>\n",
       "      <td>The Coffee Lab - Mina Rashid (مختبر القهوة - ميناء راشد)</td>\n",
       "      <td>Port Rashid</td>\n",
       "      <td>25.258735</td>\n",
       "      <td>55.277499</td>\n",
       "      <td>AE</td>\n",
       "      <td>NaN</td>\n",
       "      <td>دبي</td>\n",
       "      <td>دبي</td>\n",
       "      <td>Coffee Shop</td>\n",
       "    </tr>\n",
       "  </tbody>\n",
       "</table>\n",
       "</div>"
      ],
      "text/plain": [
       "                   venue.id  \\\n",
       "0  508e4b2ae4b01ceeb4ae3d37   \n",
       "1  4b7d809af964a520c2c22fe3   \n",
       "2  5866b18245c3ed1e7db9931d   \n",
       "3  556291a3498e3237b9ddf800   \n",
       "4  5a057657065ef54fbdec2747   \n",
       "\n",
       "                                                 venue.name  \\\n",
       "0           Arabian Tea House Cafe (كافية بيت الشاي العربي)   \n",
       "1          Special Ostadi Kabab (مطعم الأستاد للكباب الخاص)   \n",
       "2                                          Nikki Beach Club   \n",
       "3                                Fitness Time (وقت اللياقة)   \n",
       "4  The Coffee Lab - Mina Rashid (مختبر القهوة - ميناء راشد)   \n",
       "\n",
       "  venue.location.address  venue.location.lat  venue.location.lng  \\\n",
       "0           Al Fahidi St           25.263399           55.299695   \n",
       "1         At Mankhool Rd           25.259961           55.298940   \n",
       "2         Pearl Jumeirah           25.248306           55.256939   \n",
       "3                    NaN           25.289077           55.347913   \n",
       "4            Port Rashid           25.258735           55.277499   \n",
       "\n",
       "  venue.location.cc venue.location.neighborhood venue.location.city  \\\n",
       "0                AE            Al Souk Al Kabir                 دبي   \n",
       "1                AE                  Al Hamriya                 دبي   \n",
       "2                AE                         NaN                 دبي   \n",
       "3                AE                         NaN                 دبي   \n",
       "4                AE                         NaN                 دبي   \n",
       "\n",
       "  venue.location.state          categories  \n",
       "0                  دبي            Tea Room  \n",
       "1                  دبي  Persian Restaurant  \n",
       "2                  دبي           Beach Bar  \n",
       "3                  دبي                 Gym  \n",
       "4                  دبي         Coffee Shop  "
      ]
     },
     "execution_count": 33,
     "metadata": {},
     "output_type": "execute_result"
    }
   ],
   "source": [
    "venues_df.head()"
   ]
  },
  {
   "cell_type": "markdown",
   "metadata": {},
   "source": [
    "#### Remove Arabic name from venue names column"
   ]
  },
  {
   "cell_type": "code",
   "execution_count": 34,
   "metadata": {},
   "outputs": [
    {
     "name": "stdout",
     "output_type": "stream",
     "text": [
      "<class 'pandas.core.frame.DataFrame'>\n",
      "RangeIndex: 100 entries, 0 to 99\n",
      "Data columns (total 10 columns):\n",
      " #   Column                       Non-Null Count  Dtype  \n",
      "---  ------                       --------------  -----  \n",
      " 0   venue.id                     100 non-null    object \n",
      " 1   venue.name                   100 non-null    object \n",
      " 2   venue.location.address       95 non-null     object \n",
      " 3   venue.location.lat           100 non-null    float64\n",
      " 4   venue.location.lng           100 non-null    float64\n",
      " 5   venue.location.cc            100 non-null    object \n",
      " 6   venue.location.neighborhood  18 non-null     object \n",
      " 7   venue.location.city          100 non-null    object \n",
      " 8   venue.location.state         100 non-null    object \n",
      " 9   categories                   100 non-null    object \n",
      "dtypes: float64(2), object(8)\n",
      "memory usage: 7.9+ KB\n"
     ]
    }
   ],
   "source": [
    "venues_df.info()"
   ]
  },
  {
   "cell_type": "code",
   "execution_count": 35,
   "metadata": {},
   "outputs": [],
   "source": [
    "venues_df['venue_name'] = venues_df['venue.name'].str.replace(r\"\\(.*\\)\",\"\")"
   ]
  },
  {
   "cell_type": "code",
   "execution_count": 36,
   "metadata": {},
   "outputs": [
    {
     "data": {
      "text/html": [
       "<div>\n",
       "<style scoped>\n",
       "    .dataframe tbody tr th:only-of-type {\n",
       "        vertical-align: middle;\n",
       "    }\n",
       "\n",
       "    .dataframe tbody tr th {\n",
       "        vertical-align: top;\n",
       "    }\n",
       "\n",
       "    .dataframe thead th {\n",
       "        text-align: right;\n",
       "    }\n",
       "</style>\n",
       "<table border=\"1\" class=\"dataframe\">\n",
       "  <thead>\n",
       "    <tr style=\"text-align: right;\">\n",
       "      <th></th>\n",
       "      <th>venue.id</th>\n",
       "      <th>venue.name</th>\n",
       "      <th>venue.location.address</th>\n",
       "      <th>venue.location.lat</th>\n",
       "      <th>venue.location.lng</th>\n",
       "      <th>venue.location.cc</th>\n",
       "      <th>venue.location.neighborhood</th>\n",
       "      <th>venue.location.city</th>\n",
       "      <th>venue.location.state</th>\n",
       "      <th>categories</th>\n",
       "      <th>venue_name</th>\n",
       "    </tr>\n",
       "  </thead>\n",
       "  <tbody>\n",
       "    <tr>\n",
       "      <th>0</th>\n",
       "      <td>508e4b2ae4b01ceeb4ae3d37</td>\n",
       "      <td>Arabian Tea House Cafe (كافية بيت الشاي العربي)</td>\n",
       "      <td>Al Fahidi St</td>\n",
       "      <td>25.263399</td>\n",
       "      <td>55.299695</td>\n",
       "      <td>AE</td>\n",
       "      <td>Al Souk Al Kabir</td>\n",
       "      <td>دبي</td>\n",
       "      <td>دبي</td>\n",
       "      <td>Tea Room</td>\n",
       "      <td>Arabian Tea House Cafe</td>\n",
       "    </tr>\n",
       "    <tr>\n",
       "      <th>1</th>\n",
       "      <td>4b7d809af964a520c2c22fe3</td>\n",
       "      <td>Special Ostadi Kabab (مطعم الأستاد للكباب الخاص)</td>\n",
       "      <td>At Mankhool Rd</td>\n",
       "      <td>25.259961</td>\n",
       "      <td>55.298940</td>\n",
       "      <td>AE</td>\n",
       "      <td>Al Hamriya</td>\n",
       "      <td>دبي</td>\n",
       "      <td>دبي</td>\n",
       "      <td>Persian Restaurant</td>\n",
       "      <td>Special Ostadi Kabab</td>\n",
       "    </tr>\n",
       "    <tr>\n",
       "      <th>2</th>\n",
       "      <td>5866b18245c3ed1e7db9931d</td>\n",
       "      <td>Nikki Beach Club</td>\n",
       "      <td>Pearl Jumeirah</td>\n",
       "      <td>25.248306</td>\n",
       "      <td>55.256939</td>\n",
       "      <td>AE</td>\n",
       "      <td>NaN</td>\n",
       "      <td>دبي</td>\n",
       "      <td>دبي</td>\n",
       "      <td>Beach Bar</td>\n",
       "      <td>Nikki Beach Club</td>\n",
       "    </tr>\n",
       "    <tr>\n",
       "      <th>3</th>\n",
       "      <td>556291a3498e3237b9ddf800</td>\n",
       "      <td>Fitness Time (وقت اللياقة)</td>\n",
       "      <td>NaN</td>\n",
       "      <td>25.289077</td>\n",
       "      <td>55.347913</td>\n",
       "      <td>AE</td>\n",
       "      <td>NaN</td>\n",
       "      <td>دبي</td>\n",
       "      <td>دبي</td>\n",
       "      <td>Gym</td>\n",
       "      <td>Fitness Time</td>\n",
       "    </tr>\n",
       "    <tr>\n",
       "      <th>4</th>\n",
       "      <td>5a057657065ef54fbdec2747</td>\n",
       "      <td>The Coffee Lab - Mina Rashid (مختبر القهوة - ميناء راشد)</td>\n",
       "      <td>Port Rashid</td>\n",
       "      <td>25.258735</td>\n",
       "      <td>55.277499</td>\n",
       "      <td>AE</td>\n",
       "      <td>NaN</td>\n",
       "      <td>دبي</td>\n",
       "      <td>دبي</td>\n",
       "      <td>Coffee Shop</td>\n",
       "      <td>The Coffee Lab - Mina Rashid</td>\n",
       "    </tr>\n",
       "  </tbody>\n",
       "</table>\n",
       "</div>"
      ],
      "text/plain": [
       "                   venue.id  \\\n",
       "0  508e4b2ae4b01ceeb4ae3d37   \n",
       "1  4b7d809af964a520c2c22fe3   \n",
       "2  5866b18245c3ed1e7db9931d   \n",
       "3  556291a3498e3237b9ddf800   \n",
       "4  5a057657065ef54fbdec2747   \n",
       "\n",
       "                                                 venue.name  \\\n",
       "0           Arabian Tea House Cafe (كافية بيت الشاي العربي)   \n",
       "1          Special Ostadi Kabab (مطعم الأستاد للكباب الخاص)   \n",
       "2                                          Nikki Beach Club   \n",
       "3                                Fitness Time (وقت اللياقة)   \n",
       "4  The Coffee Lab - Mina Rashid (مختبر القهوة - ميناء راشد)   \n",
       "\n",
       "  venue.location.address  venue.location.lat  venue.location.lng  \\\n",
       "0           Al Fahidi St           25.263399           55.299695   \n",
       "1         At Mankhool Rd           25.259961           55.298940   \n",
       "2         Pearl Jumeirah           25.248306           55.256939   \n",
       "3                    NaN           25.289077           55.347913   \n",
       "4            Port Rashid           25.258735           55.277499   \n",
       "\n",
       "  venue.location.cc venue.location.neighborhood venue.location.city  \\\n",
       "0                AE            Al Souk Al Kabir                 دبي   \n",
       "1                AE                  Al Hamriya                 دبي   \n",
       "2                AE                         NaN                 دبي   \n",
       "3                AE                         NaN                 دبي   \n",
       "4                AE                         NaN                 دبي   \n",
       "\n",
       "  venue.location.state          categories                     venue_name  \n",
       "0                  دبي            Tea Room        Arabian Tea House Cafe   \n",
       "1                  دبي  Persian Restaurant          Special Ostadi Kabab   \n",
       "2                  دبي           Beach Bar               Nikki Beach Club  \n",
       "3                  دبي                 Gym                  Fitness Time   \n",
       "4                  دبي         Coffee Shop  The Coffee Lab - Mina Rashid   "
      ]
     },
     "execution_count": 36,
     "metadata": {},
     "output_type": "execute_result"
    }
   ],
   "source": [
    "venues_df.head()"
   ]
  },
  {
   "cell_type": "markdown",
   "metadata": {},
   "source": [
    "#### Change City and Sate name from Arabic to English"
   ]
  },
  {
   "cell_type": "code",
   "execution_count": 37,
   "metadata": {},
   "outputs": [
    {
     "data": {
      "text/plain": [
       "array(['دبي', 'Dubai 1', 'وسط مدينة دبي', 'الشارقة'], dtype=object)"
      ]
     },
     "execution_count": 37,
     "metadata": {},
     "output_type": "execute_result"
    }
   ],
   "source": [
    "venues_df['venue.location.city'].unique()"
   ]
  },
  {
   "cell_type": "code",
   "execution_count": 38,
   "metadata": {},
   "outputs": [],
   "source": [
    "pattern = '|'.join(['دبي', 'Dubai 1', 'وسط مدينة دبي', 'Jumeirah 1'])"
   ]
  },
  {
   "cell_type": "code",
   "execution_count": 39,
   "metadata": {},
   "outputs": [],
   "source": [
    "venues_df['city'] = venues_df['venue.location.city'].str.replace(pattern, 'Dubai')"
   ]
  },
  {
   "cell_type": "code",
   "execution_count": 40,
   "metadata": {},
   "outputs": [],
   "source": [
    "venues_df['state'] = venues_df['venue.location.state'].str.replace(pattern, 'Dubai')"
   ]
  },
  {
   "cell_type": "code",
   "execution_count": 41,
   "metadata": {},
   "outputs": [
    {
     "data": {
      "text/html": [
       "<div>\n",
       "<style scoped>\n",
       "    .dataframe tbody tr th:only-of-type {\n",
       "        vertical-align: middle;\n",
       "    }\n",
       "\n",
       "    .dataframe tbody tr th {\n",
       "        vertical-align: top;\n",
       "    }\n",
       "\n",
       "    .dataframe thead th {\n",
       "        text-align: right;\n",
       "    }\n",
       "</style>\n",
       "<table border=\"1\" class=\"dataframe\">\n",
       "  <thead>\n",
       "    <tr style=\"text-align: right;\">\n",
       "      <th></th>\n",
       "      <th>venue.id</th>\n",
       "      <th>venue.name</th>\n",
       "      <th>venue.location.address</th>\n",
       "      <th>venue.location.lat</th>\n",
       "      <th>venue.location.lng</th>\n",
       "      <th>venue.location.cc</th>\n",
       "      <th>venue.location.neighborhood</th>\n",
       "      <th>venue.location.city</th>\n",
       "      <th>venue.location.state</th>\n",
       "      <th>categories</th>\n",
       "      <th>venue_name</th>\n",
       "      <th>city</th>\n",
       "      <th>state</th>\n",
       "    </tr>\n",
       "  </thead>\n",
       "  <tbody>\n",
       "    <tr>\n",
       "      <th>0</th>\n",
       "      <td>508e4b2ae4b01ceeb4ae3d37</td>\n",
       "      <td>Arabian Tea House Cafe (كافية بيت الشاي العربي)</td>\n",
       "      <td>Al Fahidi St</td>\n",
       "      <td>25.263399</td>\n",
       "      <td>55.299695</td>\n",
       "      <td>AE</td>\n",
       "      <td>Al Souk Al Kabir</td>\n",
       "      <td>دبي</td>\n",
       "      <td>دبي</td>\n",
       "      <td>Tea Room</td>\n",
       "      <td>Arabian Tea House Cafe</td>\n",
       "      <td>Dubai</td>\n",
       "      <td>Dubai</td>\n",
       "    </tr>\n",
       "    <tr>\n",
       "      <th>1</th>\n",
       "      <td>4b7d809af964a520c2c22fe3</td>\n",
       "      <td>Special Ostadi Kabab (مطعم الأستاد للكباب الخاص)</td>\n",
       "      <td>At Mankhool Rd</td>\n",
       "      <td>25.259961</td>\n",
       "      <td>55.298940</td>\n",
       "      <td>AE</td>\n",
       "      <td>Al Hamriya</td>\n",
       "      <td>دبي</td>\n",
       "      <td>دبي</td>\n",
       "      <td>Persian Restaurant</td>\n",
       "      <td>Special Ostadi Kabab</td>\n",
       "      <td>Dubai</td>\n",
       "      <td>Dubai</td>\n",
       "    </tr>\n",
       "    <tr>\n",
       "      <th>2</th>\n",
       "      <td>5866b18245c3ed1e7db9931d</td>\n",
       "      <td>Nikki Beach Club</td>\n",
       "      <td>Pearl Jumeirah</td>\n",
       "      <td>25.248306</td>\n",
       "      <td>55.256939</td>\n",
       "      <td>AE</td>\n",
       "      <td>NaN</td>\n",
       "      <td>دبي</td>\n",
       "      <td>دبي</td>\n",
       "      <td>Beach Bar</td>\n",
       "      <td>Nikki Beach Club</td>\n",
       "      <td>Dubai</td>\n",
       "      <td>Dubai</td>\n",
       "    </tr>\n",
       "    <tr>\n",
       "      <th>3</th>\n",
       "      <td>556291a3498e3237b9ddf800</td>\n",
       "      <td>Fitness Time (وقت اللياقة)</td>\n",
       "      <td>NaN</td>\n",
       "      <td>25.289077</td>\n",
       "      <td>55.347913</td>\n",
       "      <td>AE</td>\n",
       "      <td>NaN</td>\n",
       "      <td>دبي</td>\n",
       "      <td>دبي</td>\n",
       "      <td>Gym</td>\n",
       "      <td>Fitness Time</td>\n",
       "      <td>Dubai</td>\n",
       "      <td>Dubai</td>\n",
       "    </tr>\n",
       "    <tr>\n",
       "      <th>4</th>\n",
       "      <td>5a057657065ef54fbdec2747</td>\n",
       "      <td>The Coffee Lab - Mina Rashid (مختبر القهوة - ميناء راشد)</td>\n",
       "      <td>Port Rashid</td>\n",
       "      <td>25.258735</td>\n",
       "      <td>55.277499</td>\n",
       "      <td>AE</td>\n",
       "      <td>NaN</td>\n",
       "      <td>دبي</td>\n",
       "      <td>دبي</td>\n",
       "      <td>Coffee Shop</td>\n",
       "      <td>The Coffee Lab - Mina Rashid</td>\n",
       "      <td>Dubai</td>\n",
       "      <td>Dubai</td>\n",
       "    </tr>\n",
       "  </tbody>\n",
       "</table>\n",
       "</div>"
      ],
      "text/plain": [
       "                   venue.id  \\\n",
       "0  508e4b2ae4b01ceeb4ae3d37   \n",
       "1  4b7d809af964a520c2c22fe3   \n",
       "2  5866b18245c3ed1e7db9931d   \n",
       "3  556291a3498e3237b9ddf800   \n",
       "4  5a057657065ef54fbdec2747   \n",
       "\n",
       "                                                 venue.name  \\\n",
       "0           Arabian Tea House Cafe (كافية بيت الشاي العربي)   \n",
       "1          Special Ostadi Kabab (مطعم الأستاد للكباب الخاص)   \n",
       "2                                          Nikki Beach Club   \n",
       "3                                Fitness Time (وقت اللياقة)   \n",
       "4  The Coffee Lab - Mina Rashid (مختبر القهوة - ميناء راشد)   \n",
       "\n",
       "  venue.location.address  venue.location.lat  venue.location.lng  \\\n",
       "0           Al Fahidi St           25.263399           55.299695   \n",
       "1         At Mankhool Rd           25.259961           55.298940   \n",
       "2         Pearl Jumeirah           25.248306           55.256939   \n",
       "3                    NaN           25.289077           55.347913   \n",
       "4            Port Rashid           25.258735           55.277499   \n",
       "\n",
       "  venue.location.cc venue.location.neighborhood venue.location.city  \\\n",
       "0                AE            Al Souk Al Kabir                 دبي   \n",
       "1                AE                  Al Hamriya                 دبي   \n",
       "2                AE                         NaN                 دبي   \n",
       "3                AE                         NaN                 دبي   \n",
       "4                AE                         NaN                 دبي   \n",
       "\n",
       "  venue.location.state          categories                     venue_name  \\\n",
       "0                  دبي            Tea Room        Arabian Tea House Cafe    \n",
       "1                  دبي  Persian Restaurant          Special Ostadi Kabab    \n",
       "2                  دبي           Beach Bar               Nikki Beach Club   \n",
       "3                  دبي                 Gym                  Fitness Time    \n",
       "4                  دبي         Coffee Shop  The Coffee Lab - Mina Rashid    \n",
       "\n",
       "    city  state  \n",
       "0  Dubai  Dubai  \n",
       "1  Dubai  Dubai  \n",
       "2  Dubai  Dubai  \n",
       "3  Dubai  Dubai  \n",
       "4  Dubai  Dubai  "
      ]
     },
     "execution_count": 41,
     "metadata": {},
     "output_type": "execute_result"
    }
   ],
   "source": [
    "venues_df.head()"
   ]
  },
  {
   "cell_type": "markdown",
   "metadata": {},
   "source": [
    "#### Rename Columns"
   ]
  },
  {
   "cell_type": "code",
   "execution_count": 42,
   "metadata": {},
   "outputs": [
    {
     "data": {
      "text/plain": [
       "Index(['venue.id', 'venue.name', 'venue.location.address',\n",
       "       'venue.location.lat', 'venue.location.lng', 'venue.location.cc',\n",
       "       'venue.location.neighborhood', 'venue.location.city',\n",
       "       'venue.location.state', 'categories', 'venue_name', 'city', 'state'],\n",
       "      dtype='object')"
      ]
     },
     "execution_count": 42,
     "metadata": {},
     "output_type": "execute_result"
    }
   ],
   "source": [
    "venues_df.columns"
   ]
  },
  {
   "cell_type": "code",
   "execution_count": 43,
   "metadata": {},
   "outputs": [],
   "source": [
    "venues_df = venues_df.rename(columns = {\n",
    "    'venue.id': 'venue_id',\n",
    "    'venue.location.address': 'address',\n",
    "    'venue.location.cc': 'country',\n",
    "    'venue.location.neighborhood': 'neighborhood',\n",
    "     })"
   ]
  },
  {
   "cell_type": "code",
   "execution_count": 44,
   "metadata": {},
   "outputs": [
    {
     "data": {
      "text/html": [
       "<div>\n",
       "<style scoped>\n",
       "    .dataframe tbody tr th:only-of-type {\n",
       "        vertical-align: middle;\n",
       "    }\n",
       "\n",
       "    .dataframe tbody tr th {\n",
       "        vertical-align: top;\n",
       "    }\n",
       "\n",
       "    .dataframe thead th {\n",
       "        text-align: right;\n",
       "    }\n",
       "</style>\n",
       "<table border=\"1\" class=\"dataframe\">\n",
       "  <thead>\n",
       "    <tr style=\"text-align: right;\">\n",
       "      <th></th>\n",
       "      <th>venue_id</th>\n",
       "      <th>venue.name</th>\n",
       "      <th>address</th>\n",
       "      <th>venue.location.lat</th>\n",
       "      <th>venue.location.lng</th>\n",
       "      <th>country</th>\n",
       "      <th>neighborhood</th>\n",
       "      <th>venue.location.city</th>\n",
       "      <th>venue.location.state</th>\n",
       "      <th>categories</th>\n",
       "      <th>venue_name</th>\n",
       "      <th>city</th>\n",
       "      <th>state</th>\n",
       "    </tr>\n",
       "  </thead>\n",
       "  <tbody>\n",
       "    <tr>\n",
       "      <th>0</th>\n",
       "      <td>508e4b2ae4b01ceeb4ae3d37</td>\n",
       "      <td>Arabian Tea House Cafe (كافية بيت الشاي العربي)</td>\n",
       "      <td>Al Fahidi St</td>\n",
       "      <td>25.263399</td>\n",
       "      <td>55.299695</td>\n",
       "      <td>AE</td>\n",
       "      <td>Al Souk Al Kabir</td>\n",
       "      <td>دبي</td>\n",
       "      <td>دبي</td>\n",
       "      <td>Tea Room</td>\n",
       "      <td>Arabian Tea House Cafe</td>\n",
       "      <td>Dubai</td>\n",
       "      <td>Dubai</td>\n",
       "    </tr>\n",
       "    <tr>\n",
       "      <th>1</th>\n",
       "      <td>4b7d809af964a520c2c22fe3</td>\n",
       "      <td>Special Ostadi Kabab (مطعم الأستاد للكباب الخاص)</td>\n",
       "      <td>At Mankhool Rd</td>\n",
       "      <td>25.259961</td>\n",
       "      <td>55.298940</td>\n",
       "      <td>AE</td>\n",
       "      <td>Al Hamriya</td>\n",
       "      <td>دبي</td>\n",
       "      <td>دبي</td>\n",
       "      <td>Persian Restaurant</td>\n",
       "      <td>Special Ostadi Kabab</td>\n",
       "      <td>Dubai</td>\n",
       "      <td>Dubai</td>\n",
       "    </tr>\n",
       "  </tbody>\n",
       "</table>\n",
       "</div>"
      ],
      "text/plain": [
       "                   venue_id                                        venue.name  \\\n",
       "0  508e4b2ae4b01ceeb4ae3d37   Arabian Tea House Cafe (كافية بيت الشاي العربي)   \n",
       "1  4b7d809af964a520c2c22fe3  Special Ostadi Kabab (مطعم الأستاد للكباب الخاص)   \n",
       "\n",
       "          address  venue.location.lat  venue.location.lng country  \\\n",
       "0    Al Fahidi St           25.263399           55.299695      AE   \n",
       "1  At Mankhool Rd           25.259961           55.298940      AE   \n",
       "\n",
       "       neighborhood venue.location.city venue.location.state  \\\n",
       "0  Al Souk Al Kabir                 دبي                  دبي   \n",
       "1        Al Hamriya                 دبي                  دبي   \n",
       "\n",
       "           categories               venue_name   city  state  \n",
       "0            Tea Room  Arabian Tea House Cafe   Dubai  Dubai  \n",
       "1  Persian Restaurant    Special Ostadi Kabab   Dubai  Dubai  "
      ]
     },
     "execution_count": 44,
     "metadata": {},
     "output_type": "execute_result"
    }
   ],
   "source": [
    "venues_df.head(2)"
   ]
  },
  {
   "cell_type": "markdown",
   "metadata": {},
   "source": [
    "#### Finalize Columns"
   ]
  },
  {
   "cell_type": "code",
   "execution_count": 45,
   "metadata": {},
   "outputs": [
    {
     "data": {
      "text/plain": [
       "Index(['venue_id', 'venue.name', 'address', 'venue.location.lat',\n",
       "       'venue.location.lng', 'country', 'neighborhood', 'venue.location.city',\n",
       "       'venue.location.state', 'categories', 'venue_name', 'city', 'state'],\n",
       "      dtype='object')"
      ]
     },
     "execution_count": 45,
     "metadata": {},
     "output_type": "execute_result"
    }
   ],
   "source": [
    "venues_df.columns"
   ]
  },
  {
   "cell_type": "code",
   "execution_count": 46,
   "metadata": {},
   "outputs": [],
   "source": [
    "keep_columns = ['venue_id', 'venue_name', 'categories', 'city', 'state','neighborhood', 'address', 'venue.location.lat',\n",
    "       'venue.location.lng', 'country']"
   ]
  },
  {
   "cell_type": "code",
   "execution_count": 47,
   "metadata": {},
   "outputs": [],
   "source": [
    "venues_df = venues_df[keep_columns]"
   ]
  },
  {
   "cell_type": "code",
   "execution_count": 48,
   "metadata": {},
   "outputs": [
    {
     "data": {
      "text/html": [
       "<div>\n",
       "<style scoped>\n",
       "    .dataframe tbody tr th:only-of-type {\n",
       "        vertical-align: middle;\n",
       "    }\n",
       "\n",
       "    .dataframe tbody tr th {\n",
       "        vertical-align: top;\n",
       "    }\n",
       "\n",
       "    .dataframe thead th {\n",
       "        text-align: right;\n",
       "    }\n",
       "</style>\n",
       "<table border=\"1\" class=\"dataframe\">\n",
       "  <thead>\n",
       "    <tr style=\"text-align: right;\">\n",
       "      <th></th>\n",
       "      <th>venue_id</th>\n",
       "      <th>venue_name</th>\n",
       "      <th>categories</th>\n",
       "      <th>city</th>\n",
       "      <th>state</th>\n",
       "      <th>neighborhood</th>\n",
       "      <th>address</th>\n",
       "      <th>venue.location.lat</th>\n",
       "      <th>venue.location.lng</th>\n",
       "      <th>country</th>\n",
       "    </tr>\n",
       "  </thead>\n",
       "  <tbody>\n",
       "    <tr>\n",
       "      <th>0</th>\n",
       "      <td>508e4b2ae4b01ceeb4ae3d37</td>\n",
       "      <td>Arabian Tea House Cafe</td>\n",
       "      <td>Tea Room</td>\n",
       "      <td>Dubai</td>\n",
       "      <td>Dubai</td>\n",
       "      <td>Al Souk Al Kabir</td>\n",
       "      <td>Al Fahidi St</td>\n",
       "      <td>25.263399</td>\n",
       "      <td>55.299695</td>\n",
       "      <td>AE</td>\n",
       "    </tr>\n",
       "    <tr>\n",
       "      <th>1</th>\n",
       "      <td>4b7d809af964a520c2c22fe3</td>\n",
       "      <td>Special Ostadi Kabab</td>\n",
       "      <td>Persian Restaurant</td>\n",
       "      <td>Dubai</td>\n",
       "      <td>Dubai</td>\n",
       "      <td>Al Hamriya</td>\n",
       "      <td>At Mankhool Rd</td>\n",
       "      <td>25.259961</td>\n",
       "      <td>55.298940</td>\n",
       "      <td>AE</td>\n",
       "    </tr>\n",
       "  </tbody>\n",
       "</table>\n",
       "</div>"
      ],
      "text/plain": [
       "                   venue_id               venue_name          categories  \\\n",
       "0  508e4b2ae4b01ceeb4ae3d37  Arabian Tea House Cafe             Tea Room   \n",
       "1  4b7d809af964a520c2c22fe3    Special Ostadi Kabab   Persian Restaurant   \n",
       "\n",
       "    city  state      neighborhood         address  venue.location.lat  \\\n",
       "0  Dubai  Dubai  Al Souk Al Kabir    Al Fahidi St           25.263399   \n",
       "1  Dubai  Dubai        Al Hamriya  At Mankhool Rd           25.259961   \n",
       "\n",
       "   venue.location.lng country  \n",
       "0           55.299695      AE  \n",
       "1           55.298940      AE  "
      ]
     },
     "execution_count": 48,
     "metadata": {},
     "output_type": "execute_result"
    }
   ],
   "source": [
    "venues_df.head(2)"
   ]
  },
  {
   "cell_type": "code",
   "execution_count": 49,
   "metadata": {},
   "outputs": [
    {
     "name": "stdout",
     "output_type": "stream",
     "text": [
      "<class 'pandas.core.frame.DataFrame'>\n",
      "RangeIndex: 100 entries, 0 to 99\n",
      "Data columns (total 10 columns):\n",
      " #   Column              Non-Null Count  Dtype  \n",
      "---  ------              --------------  -----  \n",
      " 0   venue_id            100 non-null    object \n",
      " 1   venue_name          100 non-null    object \n",
      " 2   categories          100 non-null    object \n",
      " 3   city                100 non-null    object \n",
      " 4   state               100 non-null    object \n",
      " 5   neighborhood        18 non-null     object \n",
      " 6   address             95 non-null     object \n",
      " 7   venue.location.lat  100 non-null    float64\n",
      " 8   venue.location.lng  100 non-null    float64\n",
      " 9   country             100 non-null    object \n",
      "dtypes: float64(2), object(8)\n",
      "memory usage: 7.9+ KB\n"
     ]
    }
   ],
   "source": [
    "venues_df.info()"
   ]
  },
  {
   "cell_type": "markdown",
   "metadata": {},
   "source": [
    "### Final Cleanup"
   ]
  },
  {
   "cell_type": "markdown",
   "metadata": {},
   "source": [
    "##### Remove venue not in Dubai"
   ]
  },
  {
   "cell_type": "code",
   "execution_count": 50,
   "metadata": {},
   "outputs": [
    {
     "data": {
      "text/html": [
       "<div>\n",
       "<style scoped>\n",
       "    .dataframe tbody tr th:only-of-type {\n",
       "        vertical-align: middle;\n",
       "    }\n",
       "\n",
       "    .dataframe tbody tr th {\n",
       "        vertical-align: top;\n",
       "    }\n",
       "\n",
       "    .dataframe thead th {\n",
       "        text-align: right;\n",
       "    }\n",
       "</style>\n",
       "<table border=\"1\" class=\"dataframe\">\n",
       "  <thead>\n",
       "    <tr style=\"text-align: right;\">\n",
       "      <th></th>\n",
       "      <th>venue_id</th>\n",
       "      <th>venue_name</th>\n",
       "      <th>categories</th>\n",
       "      <th>city</th>\n",
       "      <th>state</th>\n",
       "      <th>neighborhood</th>\n",
       "      <th>address</th>\n",
       "      <th>venue.location.lat</th>\n",
       "      <th>venue.location.lng</th>\n",
       "      <th>country</th>\n",
       "    </tr>\n",
       "  </thead>\n",
       "  <tbody>\n",
       "    <tr>\n",
       "      <th>85</th>\n",
       "      <td>4b0587f1f964a52096a822e3</td>\n",
       "      <td>Al Qasba</td>\n",
       "      <td>Plaza</td>\n",
       "      <td>الشارقة</td>\n",
       "      <td>الشارقة</td>\n",
       "      <td>NaN</td>\n",
       "      <td>Taawun Rd</td>\n",
       "      <td>25.322411</td>\n",
       "      <td>55.376334</td>\n",
       "      <td>AE</td>\n",
       "    </tr>\n",
       "  </tbody>\n",
       "</table>\n",
       "</div>"
      ],
      "text/plain": [
       "                    venue_id venue_name categories     city    state  \\\n",
       "85  4b0587f1f964a52096a822e3  Al Qasba       Plaza  الشارقة  الشارقة   \n",
       "\n",
       "   neighborhood    address  venue.location.lat  venue.location.lng country  \n",
       "85          NaN  Taawun Rd           25.322411           55.376334      AE  "
      ]
     },
     "execution_count": 50,
     "metadata": {},
     "output_type": "execute_result"
    }
   ],
   "source": [
    "to_remove = venues_df.loc[venues_df['state'] == 'الشارقة']\n",
    "to_remove"
   ]
  },
  {
   "cell_type": "code",
   "execution_count": 51,
   "metadata": {},
   "outputs": [],
   "source": [
    "venues_df = venues_df.drop(to_remove.index)"
   ]
  },
  {
   "cell_type": "code",
   "execution_count": 52,
   "metadata": {},
   "outputs": [
    {
     "data": {
      "text/html": [
       "<div>\n",
       "<style scoped>\n",
       "    .dataframe tbody tr th:only-of-type {\n",
       "        vertical-align: middle;\n",
       "    }\n",
       "\n",
       "    .dataframe tbody tr th {\n",
       "        vertical-align: top;\n",
       "    }\n",
       "\n",
       "    .dataframe thead th {\n",
       "        text-align: right;\n",
       "    }\n",
       "</style>\n",
       "<table border=\"1\" class=\"dataframe\">\n",
       "  <thead>\n",
       "    <tr style=\"text-align: right;\">\n",
       "      <th></th>\n",
       "      <th>venue_id</th>\n",
       "      <th>venue_name</th>\n",
       "      <th>categories</th>\n",
       "      <th>city</th>\n",
       "      <th>state</th>\n",
       "      <th>neighborhood</th>\n",
       "      <th>address</th>\n",
       "      <th>venue.location.lat</th>\n",
       "      <th>venue.location.lng</th>\n",
       "      <th>country</th>\n",
       "    </tr>\n",
       "  </thead>\n",
       "  <tbody>\n",
       "  </tbody>\n",
       "</table>\n",
       "</div>"
      ],
      "text/plain": [
       "Empty DataFrame\n",
       "Columns: [venue_id, venue_name, categories, city, state, neighborhood, address, venue.location.lat, venue.location.lng, country]\n",
       "Index: []"
      ]
     },
     "execution_count": 52,
     "metadata": {},
     "output_type": "execute_result"
    }
   ],
   "source": [
    "venues_df.loc[venues_df['state'] == 'الشارقة']"
   ]
  },
  {
   "cell_type": "markdown",
   "metadata": {},
   "source": [
    "### Save Dataset as CSV"
   ]
  },
  {
   "cell_type": "code",
   "execution_count": 53,
   "metadata": {},
   "outputs": [],
   "source": [
    "path = 'foursquare_dubai_venues.csv'\n",
    "venues_df.to_csv(path, index=False)"
   ]
  },
  {
   "cell_type": "code",
   "execution_count": null,
   "metadata": {},
   "outputs": [],
   "source": []
  },
  {
   "cell_type": "markdown",
   "metadata": {},
   "source": [
    "## Merge Venues and Communities Datasets"
   ]
  },
  {
   "cell_type": "code",
   "execution_count": 59,
   "metadata": {},
   "outputs": [],
   "source": [
    "df_merged = pd.merge(wiki_df, venues_df, left_on='Community Name', right_on='neighborhood', how='outer')"
   ]
  },
  {
   "cell_type": "code",
   "execution_count": 60,
   "metadata": {},
   "outputs": [
    {
     "data": {
      "text/html": [
       "<div>\n",
       "<style scoped>\n",
       "    .dataframe tbody tr th:only-of-type {\n",
       "        vertical-align: middle;\n",
       "    }\n",
       "\n",
       "    .dataframe tbody tr th {\n",
       "        vertical-align: top;\n",
       "    }\n",
       "\n",
       "    .dataframe thead th {\n",
       "        text-align: right;\n",
       "    }\n",
       "</style>\n",
       "<table border=\"1\" class=\"dataframe\">\n",
       "  <thead>\n",
       "    <tr style=\"text-align: right;\">\n",
       "      <th></th>\n",
       "      <th>Community Number</th>\n",
       "      <th>Community Name</th>\n",
       "      <th>Area(km2)</th>\n",
       "      <th>venue_id</th>\n",
       "      <th>venue_name</th>\n",
       "      <th>categories</th>\n",
       "      <th>city</th>\n",
       "      <th>state</th>\n",
       "      <th>neighborhood</th>\n",
       "      <th>address</th>\n",
       "      <th>venue.location.lat</th>\n",
       "      <th>venue.location.lng</th>\n",
       "      <th>country</th>\n",
       "    </tr>\n",
       "  </thead>\n",
       "  <tbody>\n",
       "    <tr>\n",
       "      <th>0</th>\n",
       "      <td>126.0</td>\n",
       "      <td>Abu Hail</td>\n",
       "      <td>1.27</td>\n",
       "      <td>NaN</td>\n",
       "      <td>NaN</td>\n",
       "      <td>NaN</td>\n",
       "      <td>NaN</td>\n",
       "      <td>NaN</td>\n",
       "      <td>NaN</td>\n",
       "      <td>NaN</td>\n",
       "      <td>NaN</td>\n",
       "      <td>NaN</td>\n",
       "      <td>NaN</td>\n",
       "    </tr>\n",
       "    <tr>\n",
       "      <th>1</th>\n",
       "      <td>711.0</td>\n",
       "      <td>Al Awir First</td>\n",
       "      <td>NaN</td>\n",
       "      <td>NaN</td>\n",
       "      <td>NaN</td>\n",
       "      <td>NaN</td>\n",
       "      <td>NaN</td>\n",
       "      <td>NaN</td>\n",
       "      <td>NaN</td>\n",
       "      <td>NaN</td>\n",
       "      <td>NaN</td>\n",
       "      <td>NaN</td>\n",
       "      <td>NaN</td>\n",
       "    </tr>\n",
       "    <tr>\n",
       "      <th>2</th>\n",
       "      <td>721.0</td>\n",
       "      <td>Al Awir Second</td>\n",
       "      <td>NaN</td>\n",
       "      <td>NaN</td>\n",
       "      <td>NaN</td>\n",
       "      <td>NaN</td>\n",
       "      <td>NaN</td>\n",
       "      <td>NaN</td>\n",
       "      <td>NaN</td>\n",
       "      <td>NaN</td>\n",
       "      <td>NaN</td>\n",
       "      <td>NaN</td>\n",
       "      <td>NaN</td>\n",
       "    </tr>\n",
       "    <tr>\n",
       "      <th>3</th>\n",
       "      <td>283.0</td>\n",
       "      <td>Aleyas</td>\n",
       "      <td>162.40</td>\n",
       "      <td>NaN</td>\n",
       "      <td>NaN</td>\n",
       "      <td>NaN</td>\n",
       "      <td>NaN</td>\n",
       "      <td>NaN</td>\n",
       "      <td>NaN</td>\n",
       "      <td>NaN</td>\n",
       "      <td>NaN</td>\n",
       "      <td>NaN</td>\n",
       "      <td>NaN</td>\n",
       "    </tr>\n",
       "    <tr>\n",
       "      <th>4</th>\n",
       "      <td>333.0</td>\n",
       "      <td>Al Bada'a</td>\n",
       "      <td>0.82</td>\n",
       "      <td>NaN</td>\n",
       "      <td>NaN</td>\n",
       "      <td>NaN</td>\n",
       "      <td>NaN</td>\n",
       "      <td>NaN</td>\n",
       "      <td>NaN</td>\n",
       "      <td>NaN</td>\n",
       "      <td>NaN</td>\n",
       "      <td>NaN</td>\n",
       "      <td>NaN</td>\n",
       "    </tr>\n",
       "    <tr>\n",
       "      <th>...</th>\n",
       "      <td>...</td>\n",
       "      <td>...</td>\n",
       "      <td>...</td>\n",
       "      <td>...</td>\n",
       "      <td>...</td>\n",
       "      <td>...</td>\n",
       "      <td>...</td>\n",
       "      <td>...</td>\n",
       "      <td>...</td>\n",
       "      <td>...</td>\n",
       "      <td>...</td>\n",
       "      <td>...</td>\n",
       "      <td>...</td>\n",
       "    </tr>\n",
       "    <tr>\n",
       "      <th>237</th>\n",
       "      <td>NaN</td>\n",
       "      <td>NaN</td>\n",
       "      <td>NaN</td>\n",
       "      <td>5a12d3fee179100ce19c1778</td>\n",
       "      <td>BVLGARI Resort Dubai</td>\n",
       "      <td>Hotel</td>\n",
       "      <td>Dubai</td>\n",
       "      <td>Dubai</td>\n",
       "      <td>Jumeirah 2</td>\n",
       "      <td>Jumeirah Bay Island</td>\n",
       "      <td>25.210697</td>\n",
       "      <td>55.236428</td>\n",
       "      <td>AE</td>\n",
       "    </tr>\n",
       "    <tr>\n",
       "      <th>238</th>\n",
       "      <td>NaN</td>\n",
       "      <td>NaN</td>\n",
       "      <td>NaN</td>\n",
       "      <td>519080d9498ef8b46e92e052</td>\n",
       "      <td>Four Seasons Resort Dubai at Jumeirah Beach</td>\n",
       "      <td>Resort</td>\n",
       "      <td>Dubai</td>\n",
       "      <td>Dubai</td>\n",
       "      <td>Jumeirah 2</td>\n",
       "      <td>Jumeirah Beach Rd</td>\n",
       "      <td>25.202167</td>\n",
       "      <td>55.240171</td>\n",
       "      <td>AE</td>\n",
       "    </tr>\n",
       "    <tr>\n",
       "      <th>239</th>\n",
       "      <td>NaN</td>\n",
       "      <td>NaN</td>\n",
       "      <td>NaN</td>\n",
       "      <td>5482d623498e688230ec1f3a</td>\n",
       "      <td>Coya</td>\n",
       "      <td>Peruvian Restaurant</td>\n",
       "      <td>Dubai</td>\n",
       "      <td>Dubai</td>\n",
       "      <td>Jumeirah 2</td>\n",
       "      <td>Jumeirah Beach Rd</td>\n",
       "      <td>25.202581</td>\n",
       "      <td>55.240430</td>\n",
       "      <td>AE</td>\n",
       "    </tr>\n",
       "    <tr>\n",
       "      <th>240</th>\n",
       "      <td>NaN</td>\n",
       "      <td>NaN</td>\n",
       "      <td>NaN</td>\n",
       "      <td>4ef993dd9adf7bbf8a73a45d</td>\n",
       "      <td>Platinum Movie Suites</td>\n",
       "      <td>Multiplex</td>\n",
       "      <td>Dubai</td>\n",
       "      <td>Dubai</td>\n",
       "      <td>وسط مدينة دبي</td>\n",
       "      <td>The Dubai Mall</td>\n",
       "      <td>25.196083</td>\n",
       "      <td>55.281314</td>\n",
       "      <td>AE</td>\n",
       "    </tr>\n",
       "    <tr>\n",
       "      <th>241</th>\n",
       "      <td>NaN</td>\n",
       "      <td>NaN</td>\n",
       "      <td>NaN</td>\n",
       "      <td>5556f05b498e52b9d8f6be4d</td>\n",
       "      <td>The Espresso Lab</td>\n",
       "      <td>Coffee Shop</td>\n",
       "      <td>Dubai</td>\n",
       "      <td>Dubai</td>\n",
       "      <td>Dubai Design District</td>\n",
       "      <td>R08, Building 7, Dubai Design District</td>\n",
       "      <td>25.188700</td>\n",
       "      <td>55.297599</td>\n",
       "      <td>AE</td>\n",
       "    </tr>\n",
       "  </tbody>\n",
       "</table>\n",
       "<p>242 rows × 13 columns</p>\n",
       "</div>"
      ],
      "text/plain": [
       "     Community Number  Community Name  Area(km2)                  venue_id  \\\n",
       "0               126.0        Abu Hail       1.27                       NaN   \n",
       "1               711.0   Al Awir First        NaN                       NaN   \n",
       "2               721.0  Al Awir Second        NaN                       NaN   \n",
       "3               283.0          Aleyas     162.40                       NaN   \n",
       "4               333.0       Al Bada'a       0.82                       NaN   \n",
       "..                ...             ...        ...                       ...   \n",
       "237               NaN             NaN        NaN  5a12d3fee179100ce19c1778   \n",
       "238               NaN             NaN        NaN  519080d9498ef8b46e92e052   \n",
       "239               NaN             NaN        NaN  5482d623498e688230ec1f3a   \n",
       "240               NaN             NaN        NaN  4ef993dd9adf7bbf8a73a45d   \n",
       "241               NaN             NaN        NaN  5556f05b498e52b9d8f6be4d   \n",
       "\n",
       "                                       venue_name           categories   city  \\\n",
       "0                                             NaN                  NaN    NaN   \n",
       "1                                             NaN                  NaN    NaN   \n",
       "2                                             NaN                  NaN    NaN   \n",
       "3                                             NaN                  NaN    NaN   \n",
       "4                                             NaN                  NaN    NaN   \n",
       "..                                            ...                  ...    ...   \n",
       "237                          BVLGARI Resort Dubai                Hotel  Dubai   \n",
       "238  Four Seasons Resort Dubai at Jumeirah Beach                Resort  Dubai   \n",
       "239                                          Coya  Peruvian Restaurant  Dubai   \n",
       "240                        Platinum Movie Suites             Multiplex  Dubai   \n",
       "241                              The Espresso Lab          Coffee Shop  Dubai   \n",
       "\n",
       "     state           neighborhood                                 address  \\\n",
       "0      NaN                    NaN                                     NaN   \n",
       "1      NaN                    NaN                                     NaN   \n",
       "2      NaN                    NaN                                     NaN   \n",
       "3      NaN                    NaN                                     NaN   \n",
       "4      NaN                    NaN                                     NaN   \n",
       "..     ...                    ...                                     ...   \n",
       "237  Dubai             Jumeirah 2                     Jumeirah Bay Island   \n",
       "238  Dubai             Jumeirah 2                       Jumeirah Beach Rd   \n",
       "239  Dubai             Jumeirah 2                       Jumeirah Beach Rd   \n",
       "240  Dubai          وسط مدينة دبي                          The Dubai Mall   \n",
       "241  Dubai  Dubai Design District  R08, Building 7, Dubai Design District   \n",
       "\n",
       "     venue.location.lat  venue.location.lng country  \n",
       "0                   NaN                 NaN     NaN  \n",
       "1                   NaN                 NaN     NaN  \n",
       "2                   NaN                 NaN     NaN  \n",
       "3                   NaN                 NaN     NaN  \n",
       "4                   NaN                 NaN     NaN  \n",
       "..                  ...                 ...     ...  \n",
       "237           25.210697           55.236428      AE  \n",
       "238           25.202167           55.240171      AE  \n",
       "239           25.202581           55.240430      AE  \n",
       "240           25.196083           55.281314      AE  \n",
       "241           25.188700           55.297599      AE  \n",
       "\n",
       "[242 rows x 13 columns]"
      ]
     },
     "execution_count": 60,
     "metadata": {},
     "output_type": "execute_result"
    }
   ],
   "source": [
    "df_merged"
   ]
  },
  {
   "cell_type": "markdown",
   "metadata": {},
   "source": [
    "# Observation \n",
    "As there is no common key between the two datasets, Merging is not feasible. The communities dataset will not be used for modeling."
   ]
  }
 ],
 "metadata": {
  "kernelspec": {
   "display_name": "Python 3",
   "language": "python",
   "name": "python3"
  },
  "language_info": {
   "codemirror_mode": {
    "name": "ipython",
    "version": 3
   },
   "file_extension": ".py",
   "mimetype": "text/x-python",
   "name": "python",
   "nbconvert_exporter": "python",
   "pygments_lexer": "ipython3",
   "version": "3.8.3"
  }
 },
 "nbformat": 4,
 "nbformat_minor": 4
}
