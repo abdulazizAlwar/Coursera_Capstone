{
 "cells": [
  {
   "cell_type": "markdown",
   "metadata": {},
   "source": [
    "# Dubai Neighborhood Venue Category Analysis "
   ]
  },
  {
   "cell_type": "markdown",
   "metadata": {},
   "source": [
    "## A. Problem Statement"
   ]
  },
  {
   "cell_type": "markdown",
   "metadata": {},
   "source": [
    "Dubai is a multi-national, multi-generation, multi-cultural and naturally, multi-demographic city. The purpose of this study is to try to cluster and categorize each area to understand the demographic and characteristics of each area's residents and visitors. \n",
    "\n",
    "Analysis of the demographics in Dubai will help understand marketing oppurtunities"
   ]
  },
  {
   "cell_type": "markdown",
   "metadata": {},
   "source": [
    "## B. Data Description"
   ]
  },
  {
   "cell_type": "markdown",
   "metadata": {},
   "source": [
    "The datasets used are:<br>\n",
    "-Foursquare API Venue Data for Dubai.<br>\n",
    "-Wikipedia Dubai communities list<br>\n",
    "\n",
    "The Foursquare API Venue dataset will be used find venues and Dubai and their location and categories. Then the venue data will be grouped for each area in Dubai with count of each venue category in each area. This dataset will be used to cluster each area based on the characterstics of venue types in each area.\n",
    "\n",
    "The Wikipedia Dubai communities list will be used to enrich the above dataset with further useful information."
   ]
  },
  {
   "cell_type": "markdown",
   "metadata": {},
   "source": [
    "## C. Methodology"
   ]
  },
  {
   "cell_type": "markdown",
   "metadata": {},
   "source": [
    "### 1. Dataset Import & Preparation"
   ]
  },
  {
   "cell_type": "markdown",
   "metadata": {},
   "source": [
    "The two datasets mentioned above will be import using web scrapping and the Foursquare API and will be preprocessed to be easier to analyse."
   ]
  },
  {
   "cell_type": "markdown",
   "metadata": {},
   "source": [
    "#### a. Wikipedia Communities Dataset"
   ]
  },
  {
   "cell_type": "markdown",
   "metadata": {},
   "source": [
    "Below is the raw data webscrapped from Wikipedia"
   ]
  },
  {
   "cell_type": "code",
   "execution_count": 6,
   "metadata": {},
   "outputs": [
    {
     "data": {
      "text/html": [
       "<div>\n",
       "<style scoped>\n",
       "    .dataframe tbody tr th:only-of-type {\n",
       "        vertical-align: middle;\n",
       "    }\n",
       "\n",
       "    .dataframe tbody tr th {\n",
       "        vertical-align: top;\n",
       "    }\n",
       "\n",
       "    .dataframe thead th {\n",
       "        text-align: right;\n",
       "    }\n",
       "</style>\n",
       "<table border=\"1\" class=\"dataframe\">\n",
       "  <thead>\n",
       "    <tr style=\"text-align: right;\">\n",
       "      <th></th>\n",
       "      <th>Community Number</th>\n",
       "      <th>Community (English)</th>\n",
       "      <th>Community (Arabic)</th>\n",
       "      <th>Area(km2)</th>\n",
       "      <th>Population(2000)</th>\n",
       "      <th>Population density(/km2)</th>\n",
       "      <th>Unnamed: 6</th>\n",
       "    </tr>\n",
       "  </thead>\n",
       "  <tbody>\n",
       "    <tr>\n",
       "      <th>0</th>\n",
       "      <td>126.0</td>\n",
       "      <td>Abu Hail</td>\n",
       "      <td>أبو هيل</td>\n",
       "      <td>1.27 km²</td>\n",
       "      <td>21414</td>\n",
       "      <td>16,861.4/km²</td>\n",
       "      <td>NaN</td>\n",
       "    </tr>\n",
       "    <tr>\n",
       "      <th>1</th>\n",
       "      <td>711.0</td>\n",
       "      <td>Al Awir First</td>\n",
       "      <td>العوير الأولى</td>\n",
       "      <td>NaN</td>\n",
       "      <td>NaN</td>\n",
       "      <td>NaN</td>\n",
       "      <td>NaN</td>\n",
       "    </tr>\n",
       "    <tr>\n",
       "      <th>2</th>\n",
       "      <td>721.0</td>\n",
       "      <td>Al Awir Second</td>\n",
       "      <td>العوير الثانية</td>\n",
       "      <td>NaN</td>\n",
       "      <td>NaN</td>\n",
       "      <td>NaN</td>\n",
       "      <td>NaN</td>\n",
       "    </tr>\n",
       "    <tr>\n",
       "      <th>3</th>\n",
       "      <td>283.0</td>\n",
       "      <td>Aleyas</td>\n",
       "      <td>العياص</td>\n",
       "      <td>162.4 km2</td>\n",
       "      <td>1706</td>\n",
       "      <td>162.4/km2</td>\n",
       "      <td>NaN</td>\n",
       "    </tr>\n",
       "    <tr>\n",
       "      <th>4</th>\n",
       "      <td>333.0</td>\n",
       "      <td>Al Bada'a</td>\n",
       "      <td>البدع</td>\n",
       "      <td>0.82 km²</td>\n",
       "      <td>18816</td>\n",
       "      <td>22946/km²</td>\n",
       "      <td>NaN</td>\n",
       "    </tr>\n",
       "  </tbody>\n",
       "</table>\n",
       "</div>"
      ],
      "text/plain": [
       "   Community Number Community (English) Community (Arabic)  Area(km2)  \\\n",
       "0             126.0            Abu Hail            أبو هيل   1.27 km²   \n",
       "1             711.0       Al Awir First      العوير الأولى        NaN   \n",
       "2             721.0      Al Awir Second     العوير الثانية        NaN   \n",
       "3             283.0              Aleyas             العياص  162.4 km2   \n",
       "4             333.0           Al Bada'a              البدع   0.82 km²   \n",
       "\n",
       "  Population(2000) Population density(/km2)  Unnamed: 6  \n",
       "0            21414             16,861.4/km²         NaN  \n",
       "1              NaN                      NaN         NaN  \n",
       "2              NaN                      NaN         NaN  \n",
       "3             1706                162.4/km2         NaN  \n",
       "4            18816                22946/km²         NaN  "
      ]
     },
     "execution_count": 6,
     "metadata": {},
     "output_type": "execute_result"
    }
   ],
   "source": [
    "wiki_df.head()"
   ]
  },
  {
   "cell_type": "markdown",
   "metadata": {},
   "source": [
    "Various preprocessing steps were done on the dataset including dropping unneeded columns, transforming the area column to a numbers and dropping the population columns as they are 20 years old and largely inaccurate."
   ]
  },
  {
   "cell_type": "code",
   "execution_count": 20,
   "metadata": {},
   "outputs": [
    {
     "data": {
      "text/html": [
       "<div>\n",
       "<style scoped>\n",
       "    .dataframe tbody tr th:only-of-type {\n",
       "        vertical-align: middle;\n",
       "    }\n",
       "\n",
       "    .dataframe tbody tr th {\n",
       "        vertical-align: top;\n",
       "    }\n",
       "\n",
       "    .dataframe thead th {\n",
       "        text-align: right;\n",
       "    }\n",
       "</style>\n",
       "<table border=\"1\" class=\"dataframe\">\n",
       "  <thead>\n",
       "    <tr style=\"text-align: right;\">\n",
       "      <th></th>\n",
       "      <th>Community Number</th>\n",
       "      <th>Community Name</th>\n",
       "      <th>Area(km2)</th>\n",
       "    </tr>\n",
       "  </thead>\n",
       "  <tbody>\n",
       "    <tr>\n",
       "      <th>0</th>\n",
       "      <td>126</td>\n",
       "      <td>Abu Hail</td>\n",
       "      <td>1.27</td>\n",
       "    </tr>\n",
       "    <tr>\n",
       "      <th>1</th>\n",
       "      <td>711</td>\n",
       "      <td>Al Awir First</td>\n",
       "      <td>NaN</td>\n",
       "    </tr>\n",
       "    <tr>\n",
       "      <th>2</th>\n",
       "      <td>721</td>\n",
       "      <td>Al Awir Second</td>\n",
       "      <td>NaN</td>\n",
       "    </tr>\n",
       "    <tr>\n",
       "      <th>3</th>\n",
       "      <td>283</td>\n",
       "      <td>Aleyas</td>\n",
       "      <td>162.40</td>\n",
       "    </tr>\n",
       "    <tr>\n",
       "      <th>4</th>\n",
       "      <td>333</td>\n",
       "      <td>Al Bada'a</td>\n",
       "      <td>0.82</td>\n",
       "    </tr>\n",
       "  </tbody>\n",
       "</table>\n",
       "</div>"
      ],
      "text/plain": [
       "   Community Number  Community Name  Area(km2)\n",
       "0               126        Abu Hail       1.27\n",
       "1               711   Al Awir First        NaN\n",
       "2               721  Al Awir Second        NaN\n",
       "3               283          Aleyas     162.40\n",
       "4               333       Al Bada'a       0.82"
      ]
     },
     "execution_count": 20,
     "metadata": {},
     "output_type": "execute_result"
    }
   ],
   "source": [
    "wiki_df.head()"
   ]
  },
  {
   "cell_type": "markdown",
   "metadata": {},
   "source": [
    "#### b. FoursquareAPI Dataset"
   ]
  },
  {
   "cell_type": "markdown",
   "metadata": {},
   "source": [
    "Below is the data accuired from the foursquare venues API using the below parameters"
   ]
  },
  {
   "cell_type": "code",
   "execution_count": 23,
   "metadata": {},
   "outputs": [],
   "source": [
    "#Latitude & Longtitude of Dubai\n",
    "lat, long = 25.276987, 55.296249\n",
    "\n",
    "#Radius of Venues to search for from the Latitude & Longtitude\n",
    "radius = 100000"
   ]
  },
  {
   "cell_type": "code",
   "execution_count": 26,
   "metadata": {},
   "outputs": [
    {
     "data": {
      "text/html": [
       "<div>\n",
       "<style scoped>\n",
       "    .dataframe tbody tr th:only-of-type {\n",
       "        vertical-align: middle;\n",
       "    }\n",
       "\n",
       "    .dataframe tbody tr th {\n",
       "        vertical-align: top;\n",
       "    }\n",
       "\n",
       "    .dataframe thead th {\n",
       "        text-align: right;\n",
       "    }\n",
       "</style>\n",
       "<table border=\"1\" class=\"dataframe\">\n",
       "  <thead>\n",
       "    <tr style=\"text-align: right;\">\n",
       "      <th></th>\n",
       "      <th>referralId</th>\n",
       "      <th>reasons.count</th>\n",
       "      <th>reasons.items</th>\n",
       "      <th>venue.id</th>\n",
       "      <th>venue.name</th>\n",
       "      <th>venue.location.address</th>\n",
       "      <th>venue.location.lat</th>\n",
       "      <th>venue.location.lng</th>\n",
       "      <th>venue.location.labeledLatLngs</th>\n",
       "      <th>venue.location.distance</th>\n",
       "      <th>venue.location.cc</th>\n",
       "      <th>venue.location.neighborhood</th>\n",
       "      <th>venue.location.city</th>\n",
       "      <th>venue.location.state</th>\n",
       "      <th>venue.location.country</th>\n",
       "      <th>venue.location.formattedAddress</th>\n",
       "      <th>venue.categories</th>\n",
       "      <th>venue.photos.count</th>\n",
       "      <th>venue.photos.groups</th>\n",
       "      <th>venue.location.crossStreet</th>\n",
       "      <th>venue.location.postalCode</th>\n",
       "      <th>venue.venuePage.id</th>\n",
       "    </tr>\n",
       "  </thead>\n",
       "  <tbody>\n",
       "    <tr>\n",
       "      <th>0</th>\n",
       "      <td>e-0-508e4b2ae4b01ceeb4ae3d37-0</td>\n",
       "      <td>0</td>\n",
       "      <td>[{'summary': 'This spot is popular', 'type': 'general', 'reasonName': 'globalInteractionReason'}]</td>\n",
       "      <td>508e4b2ae4b01ceeb4ae3d37</td>\n",
       "      <td>Arabian Tea House Cafe (كافية بيت الشاي العربي)</td>\n",
       "      <td>Al Fahidi St</td>\n",
       "      <td>25.263399</td>\n",
       "      <td>55.299695</td>\n",
       "      <td>[{'label': 'display', 'lat': 25.26339894786175, 'lng': 55.29969492240867}]</td>\n",
       "      <td>1551</td>\n",
       "      <td>AE</td>\n",
       "      <td>Al Souk Al Kabir</td>\n",
       "      <td>دبي</td>\n",
       "      <td>دبي</td>\n",
       "      <td>الإمارات العربية المتحدة</td>\n",
       "      <td>[Al Fahidi St, دبي, الإمارات العربية المتحدة]</td>\n",
       "      <td>[{'id': '4bf58dd8d48988d1dc931735', 'name': 'Tea Room', 'pluralName': 'Tea Rooms', 'shortName': 'Tea Room', 'icon': {'prefix': 'https://ss3.4sqi.net/img/categories_v2/food/tearoom_', 'suffix': '.png'}, 'primary': True}]</td>\n",
       "      <td>0</td>\n",
       "      <td>[]</td>\n",
       "      <td>NaN</td>\n",
       "      <td>NaN</td>\n",
       "      <td>NaN</td>\n",
       "    </tr>\n",
       "    <tr>\n",
       "      <th>1</th>\n",
       "      <td>e-0-4b7d809af964a520c2c22fe3-1</td>\n",
       "      <td>0</td>\n",
       "      <td>[{'summary': 'This spot is popular', 'type': 'general', 'reasonName': 'globalInteractionReason'}]</td>\n",
       "      <td>4b7d809af964a520c2c22fe3</td>\n",
       "      <td>Special Ostadi Kabab (مطعم الأستاد للكباب الخاص)</td>\n",
       "      <td>At Mankhool Rd</td>\n",
       "      <td>25.259961</td>\n",
       "      <td>55.298940</td>\n",
       "      <td>[{'label': 'display', 'lat': 25.259961, 'lng': 55.29894}]</td>\n",
       "      <td>1914</td>\n",
       "      <td>AE</td>\n",
       "      <td>Al Hamriya</td>\n",
       "      <td>دبي</td>\n",
       "      <td>دبي</td>\n",
       "      <td>الإمارات العربية المتحدة</td>\n",
       "      <td>[At Mankhool Rd (Al Monirah St), دبي, الإمارات العربية المتحدة]</td>\n",
       "      <td>[{'id': '52e81612bcbc57f1066b79f7', 'name': 'Persian Restaurant', 'pluralName': 'Persian Restaurants', 'shortName': 'Persian', 'icon': {'prefix': 'https://ss3.4sqi.net/img/categories_v2/food/middleeastern_', 'suffix': '.png'}, 'primary': True}]</td>\n",
       "      <td>0</td>\n",
       "      <td>[]</td>\n",
       "      <td>Al Monirah St</td>\n",
       "      <td>NaN</td>\n",
       "      <td>NaN</td>\n",
       "    </tr>\n",
       "    <tr>\n",
       "      <th>2</th>\n",
       "      <td>e-0-5866b18245c3ed1e7db9931d-2</td>\n",
       "      <td>0</td>\n",
       "      <td>[{'summary': 'This spot is popular', 'type': 'general', 'reasonName': 'globalInteractionReason'}]</td>\n",
       "      <td>5866b18245c3ed1e7db9931d</td>\n",
       "      <td>Nikki Beach Club</td>\n",
       "      <td>Pearl Jumeirah</td>\n",
       "      <td>25.248306</td>\n",
       "      <td>55.256939</td>\n",
       "      <td>[{'label': 'display', 'lat': 25.248305850634996, 'lng': 55.25693893432617}]</td>\n",
       "      <td>5084</td>\n",
       "      <td>AE</td>\n",
       "      <td>NaN</td>\n",
       "      <td>دبي</td>\n",
       "      <td>دبي</td>\n",
       "      <td>الإمارات العربية المتحدة</td>\n",
       "      <td>[Pearl Jumeirah, دبي, الإمارات العربية المتحدة]</td>\n",
       "      <td>[{'id': '52e81612bcbc57f1066b7a0d', 'name': 'Beach Bar', 'pluralName': 'Beach Bars', 'shortName': 'Beach Bar', 'icon': {'prefix': 'https://ss3.4sqi.net/img/categories_v2/nightlife/default_', 'suffix': '.png'}, 'primary': True}]</td>\n",
       "      <td>0</td>\n",
       "      <td>[]</td>\n",
       "      <td>NaN</td>\n",
       "      <td>NaN</td>\n",
       "      <td>NaN</td>\n",
       "    </tr>\n",
       "  </tbody>\n",
       "</table>\n",
       "</div>"
      ],
      "text/plain": [
       "                       referralId  reasons.count  \\\n",
       "0  e-0-508e4b2ae4b01ceeb4ae3d37-0              0   \n",
       "1  e-0-4b7d809af964a520c2c22fe3-1              0   \n",
       "2  e-0-5866b18245c3ed1e7db9931d-2              0   \n",
       "\n",
       "                                                                                       reasons.items  \\\n",
       "0  [{'summary': 'This spot is popular', 'type': 'general', 'reasonName': 'globalInteractionReason'}]   \n",
       "1  [{'summary': 'This spot is popular', 'type': 'general', 'reasonName': 'globalInteractionReason'}]   \n",
       "2  [{'summary': 'This spot is popular', 'type': 'general', 'reasonName': 'globalInteractionReason'}]   \n",
       "\n",
       "                   venue.id                                        venue.name  \\\n",
       "0  508e4b2ae4b01ceeb4ae3d37   Arabian Tea House Cafe (كافية بيت الشاي العربي)   \n",
       "1  4b7d809af964a520c2c22fe3  Special Ostadi Kabab (مطعم الأستاد للكباب الخاص)   \n",
       "2  5866b18245c3ed1e7db9931d                                  Nikki Beach Club   \n",
       "\n",
       "  venue.location.address  venue.location.lat  venue.location.lng  \\\n",
       "0           Al Fahidi St           25.263399           55.299695   \n",
       "1         At Mankhool Rd           25.259961           55.298940   \n",
       "2         Pearl Jumeirah           25.248306           55.256939   \n",
       "\n",
       "                                                 venue.location.labeledLatLngs  \\\n",
       "0   [{'label': 'display', 'lat': 25.26339894786175, 'lng': 55.29969492240867}]   \n",
       "1                    [{'label': 'display', 'lat': 25.259961, 'lng': 55.29894}]   \n",
       "2  [{'label': 'display', 'lat': 25.248305850634996, 'lng': 55.25693893432617}]   \n",
       "\n",
       "   venue.location.distance venue.location.cc venue.location.neighborhood  \\\n",
       "0                     1551                AE            Al Souk Al Kabir   \n",
       "1                     1914                AE                  Al Hamriya   \n",
       "2                     5084                AE                         NaN   \n",
       "\n",
       "  venue.location.city venue.location.state    venue.location.country  \\\n",
       "0                 دبي                  دبي  الإمارات العربية المتحدة   \n",
       "1                 دبي                  دبي  الإمارات العربية المتحدة   \n",
       "2                 دبي                  دبي  الإمارات العربية المتحدة   \n",
       "\n",
       "                                   venue.location.formattedAddress  \\\n",
       "0                    [Al Fahidi St, دبي, الإمارات العربية المتحدة]   \n",
       "1  [At Mankhool Rd (Al Monirah St), دبي, الإمارات العربية المتحدة]   \n",
       "2                  [Pearl Jumeirah, دبي, الإمارات العربية المتحدة]   \n",
       "\n",
       "                                                                                                                                                                                                                                       venue.categories  \\\n",
       "0                           [{'id': '4bf58dd8d48988d1dc931735', 'name': 'Tea Room', 'pluralName': 'Tea Rooms', 'shortName': 'Tea Room', 'icon': {'prefix': 'https://ss3.4sqi.net/img/categories_v2/food/tearoom_', 'suffix': '.png'}, 'primary': True}]   \n",
       "1  [{'id': '52e81612bcbc57f1066b79f7', 'name': 'Persian Restaurant', 'pluralName': 'Persian Restaurants', 'shortName': 'Persian', 'icon': {'prefix': 'https://ss3.4sqi.net/img/categories_v2/food/middleeastern_', 'suffix': '.png'}, 'primary': True}]   \n",
       "2                   [{'id': '52e81612bcbc57f1066b7a0d', 'name': 'Beach Bar', 'pluralName': 'Beach Bars', 'shortName': 'Beach Bar', 'icon': {'prefix': 'https://ss3.4sqi.net/img/categories_v2/nightlife/default_', 'suffix': '.png'}, 'primary': True}]   \n",
       "\n",
       "   venue.photos.count venue.photos.groups venue.location.crossStreet  \\\n",
       "0                   0                  []                        NaN   \n",
       "1                   0                  []              Al Monirah St   \n",
       "2                   0                  []                        NaN   \n",
       "\n",
       "  venue.location.postalCode venue.venuePage.id  \n",
       "0                       NaN                NaN  \n",
       "1                       NaN                NaN  \n",
       "2                       NaN                NaN  "
      ]
     },
     "execution_count": 26,
     "metadata": {},
     "output_type": "execute_result"
    }
   ],
   "source": [
    "venues_df = results['response']['groups'][0]['items']\n",
    "venues_df = json_normalize(venues_df)\n",
    "venues_df.head(3)"
   ]
  },
  {
   "cell_type": "markdown",
   "metadata": {},
   "source": [
    "Various preprocessing steps were done on the dataset including dropping unneeded columns, translating column values in Arabic to English, standardizing the categories column."
   ]
  },
  {
   "cell_type": "code",
   "execution_count": 48,
   "metadata": {},
   "outputs": [
    {
     "data": {
      "text/html": [
       "<div>\n",
       "<style scoped>\n",
       "    .dataframe tbody tr th:only-of-type {\n",
       "        vertical-align: middle;\n",
       "    }\n",
       "\n",
       "    .dataframe tbody tr th {\n",
       "        vertical-align: top;\n",
       "    }\n",
       "\n",
       "    .dataframe thead th {\n",
       "        text-align: right;\n",
       "    }\n",
       "</style>\n",
       "<table border=\"1\" class=\"dataframe\">\n",
       "  <thead>\n",
       "    <tr style=\"text-align: right;\">\n",
       "      <th></th>\n",
       "      <th>venue_id</th>\n",
       "      <th>venue_name</th>\n",
       "      <th>categories</th>\n",
       "      <th>city</th>\n",
       "      <th>state</th>\n",
       "      <th>neighborhood</th>\n",
       "      <th>address</th>\n",
       "      <th>venue.location.lat</th>\n",
       "      <th>venue.location.lng</th>\n",
       "      <th>country</th>\n",
       "    </tr>\n",
       "  </thead>\n",
       "  <tbody>\n",
       "    <tr>\n",
       "      <th>0</th>\n",
       "      <td>508e4b2ae4b01ceeb4ae3d37</td>\n",
       "      <td>Arabian Tea House Cafe</td>\n",
       "      <td>Tea Room</td>\n",
       "      <td>Dubai</td>\n",
       "      <td>Dubai</td>\n",
       "      <td>Al Souk Al Kabir</td>\n",
       "      <td>Al Fahidi St</td>\n",
       "      <td>25.263399</td>\n",
       "      <td>55.299695</td>\n",
       "      <td>AE</td>\n",
       "    </tr>\n",
       "    <tr>\n",
       "      <th>1</th>\n",
       "      <td>4b7d809af964a520c2c22fe3</td>\n",
       "      <td>Special Ostadi Kabab</td>\n",
       "      <td>Persian Restaurant</td>\n",
       "      <td>Dubai</td>\n",
       "      <td>Dubai</td>\n",
       "      <td>Al Hamriya</td>\n",
       "      <td>At Mankhool Rd</td>\n",
       "      <td>25.259961</td>\n",
       "      <td>55.298940</td>\n",
       "      <td>AE</td>\n",
       "    </tr>\n",
       "  </tbody>\n",
       "</table>\n",
       "</div>"
      ],
      "text/plain": [
       "                   venue_id               venue_name          categories  \\\n",
       "0  508e4b2ae4b01ceeb4ae3d37  Arabian Tea House Cafe             Tea Room   \n",
       "1  4b7d809af964a520c2c22fe3    Special Ostadi Kabab   Persian Restaurant   \n",
       "\n",
       "    city  state      neighborhood         address  venue.location.lat  \\\n",
       "0  Dubai  Dubai  Al Souk Al Kabir    Al Fahidi St           25.263399   \n",
       "1  Dubai  Dubai        Al Hamriya  At Mankhool Rd           25.259961   \n",
       "\n",
       "   venue.location.lng country  \n",
       "0           55.299695      AE  \n",
       "1           55.298940      AE  "
      ]
     },
     "execution_count": 48,
     "metadata": {},
     "output_type": "execute_result"
    }
   ],
   "source": [
    "venues_df.head(2)"
   ]
  },
  {
   "cell_type": "markdown",
   "metadata": {},
   "source": [
    "#### c. Merging both datasets"
   ]
  },
  {
   "cell_type": "markdown",
   "metadata": {},
   "source": [
    "As there is no common key between the two datasets, Merging was not feasible. The communities dataset will not be used for modeling."
   ]
  },
  {
   "cell_type": "markdown",
   "metadata": {},
   "source": [
    "### 2. Data Exploration"
   ]
  },
  {
   "cell_type": "markdown",
   "metadata": {},
   "source": [
    "The two datasets will be explored to find any information that might help with modelling, as well as better understand the data."
   ]
  },
  {
   "cell_type": "markdown",
   "metadata": {},
   "source": [
    "#### a. Explore Venues Dataset"
   ]
  },
  {
   "cell_type": "markdown",
   "metadata": {},
   "source": [
    "There are many issues with the venues dataset from Foursquare for Dubai, mainly: <br>\n",
    "1. The number of observations is extremely small with only 99 observations\n",
    "2. The occurance of each neighbohood/community in the dataset is also small, with most appearing only once. This means that most neighborhoods/communitys will only have one venue category which will not provide proper modelling."
   ]
  },
  {
   "cell_type": "code",
   "execution_count": 8,
   "metadata": {},
   "outputs": [
    {
     "data": {
      "text/plain": [
       "Dubai    99\n",
       "Name: city, dtype: int64"
      ]
     },
     "execution_count": 8,
     "metadata": {},
     "output_type": "execute_result"
    }
   ],
   "source": [
    "df['city'].value_counts()"
   ]
  },
  {
   "cell_type": "code",
   "execution_count": 7,
   "metadata": {},
   "outputs": [
    {
     "data": {
      "text/plain": [
       "Downtown Dubai              5\n",
       "Jumeirah 2                  3\n",
       "Al Wasl                     2\n",
       "Al Souk Al Kabir            1\n",
       "Zabeel 2                    1\n",
       "وسط مدينة دبي               1\n",
       "Jumeirah 1                  1\n",
       "Ras Al Khor                 1\n",
       "Dubai Design District       1\n",
       "Al Hamriya                  1\n",
       "World Trade Centre (WTC)    1\n",
       "Name: neighborhood, dtype: int64"
      ]
     },
     "execution_count": 7,
     "metadata": {},
     "output_type": "execute_result"
    }
   ],
   "source": [
    "df['neighborhood'].value_counts()"
   ]
  },
  {
   "cell_type": "markdown",
   "metadata": {},
   "source": [
    "Another issue is that some categories are too specific, with instances like `'Brazilian Restaurant', 'French Restaurant', 'Japanese Restaurant'` instead of a more comprahensive `'Restraunt'`\n",
    "\n",
    "It is possible to use feature engineering to get more suitable categories. However, this will be wasted as the number of observations is already very small."
   ]
  },
  {
   "cell_type": "code",
   "execution_count": 6,
   "metadata": {},
   "outputs": [
    {
     "data": {
      "text/plain": [
       "array(['Tea Room', 'Persian Restaurant', 'Beach Bar', 'Gym',\n",
       "       'Coffee Shop', 'Plaza', 'Golf Course', 'Resort', 'Hotel',\n",
       "       'Steakhouse', 'Beach', 'Burger Joint', 'Brazilian Restaurant',\n",
       "       'French Restaurant', 'Japanese Restaurant', 'Café', 'Restaurant',\n",
       "       'Monument / Landmark', 'Shopping Plaza', 'Movie Theater',\n",
       "       'Boutique', 'Cocktail Bar', 'Shopping Mall', 'Bookstore',\n",
       "       'Jewelry Store', 'Italian Restaurant', 'Shoe Store', 'Opera House',\n",
       "       'Greek Restaurant', 'Fountain', 'Multiplex', 'Diner',\n",
       "       'Indian Restaurant', 'Department Store', 'Airport Service',\n",
       "       'American Restaurant', 'Lounge', 'Seafood Restaurant',\n",
       "       'Mediterranean Restaurant', 'Chinese Restaurant', 'Hookah Bar',\n",
       "       'Bakery', 'Peruvian Restaurant', 'Gym / Fitness Center',\n",
       "       'Leather Goods Store', 'Cupcake Shop', 'Canal',\n",
       "       'Electronics Store', 'Asian Restaurant',\n",
       "       'Residential Building (Apartment / Condo)'], dtype=object)"
      ]
     },
     "execution_count": 6,
     "metadata": {},
     "output_type": "execute_result"
    }
   ],
   "source": [
    "df['categories'].unique()"
   ]
  },
  {
   "cell_type": "markdown",
   "metadata": {},
   "source": [
    "#### a. Explore Communities Dataset"
   ]
  },
  {
   "cell_type": "markdown",
   "metadata": {},
   "source": [
    "As mentioned previously, it was not possbile to merge the two datasets and only the venues dataset will be used for modelling. However, The insight gained from exploring the Communities dataset was useful."
   ]
  },
  {
   "cell_type": "markdown",
   "metadata": {},
   "source": [
    "We can observe from the below boxplot that most communities have an area between slightly above 0 to around 40 km2. We also absrove that some communities are extremely large at around 80 or 160 km2."
   ]
  },
  {
   "cell_type": "code",
   "execution_count": 24,
   "metadata": {},
   "outputs": [
    {
     "data": {
      "text/plain": [
       "<AxesSubplot:ylabel='Area(km2)'>"
      ]
     },
     "execution_count": 24,
     "metadata": {},
     "output_type": "execute_result"
    },
    {
     "data": {
      "image/png": "[encoded data removed]",
      "text/plain": [
       "<Figure size 432x288 with 1 Axes>"
      ]
     },
     "metadata": {
      "needs_background": "light"
     },
     "output_type": "display_data"
    }
   ],
   "source": [
    "sns.boxplot(data=df, y='Area(km2)')"
   ]
  },
  {
   "cell_type": "markdown",
   "metadata": {},
   "source": [
    "### 3. Modelling & Validation"
   ]
  },
  {
   "cell_type": "markdown",
   "metadata": {},
   "source": [
    "The venues dataset will be used for clustering to classify each neighborhood/community to a demographic cluster based on the venue categories. However, as mentioned previously, the data is insufficent to provide proper modelling."
   ]
  },
  {
   "cell_type": "markdown",
   "metadata": {},
   "source": [
    "#### a. One Hot Encoding"
   ]
  },
  {
   "cell_type": "markdown",
   "metadata": {},
   "source": [
    "The venues dataset will be one-hot encoding where each venue category will be a feature to use for clustering."
   ]
  },
  {
   "cell_type": "code",
   "execution_count": 8,
   "metadata": {},
   "outputs": [
    {
     "data": {
      "text/html": [
       "<div>\n",
       "<style scoped>\n",
       "    .dataframe tbody tr th:only-of-type {\n",
       "        vertical-align: middle;\n",
       "    }\n",
       "\n",
       "    .dataframe tbody tr th {\n",
       "        vertical-align: top;\n",
       "    }\n",
       "\n",
       "    .dataframe thead th {\n",
       "        text-align: right;\n",
       "    }\n",
       "</style>\n",
       "<table border=\"1\" class=\"dataframe\">\n",
       "  <thead>\n",
       "    <tr style=\"text-align: right;\">\n",
       "      <th></th>\n",
       "      <th>Airport Service</th>\n",
       "      <th>American Restaurant</th>\n",
       "      <th>Asian Restaurant</th>\n",
       "      <th>Bakery</th>\n",
       "      <th>Beach</th>\n",
       "      <th>Beach Bar</th>\n",
       "      <th>Bookstore</th>\n",
       "      <th>Boutique</th>\n",
       "      <th>Brazilian Restaurant</th>\n",
       "      <th>Burger Joint</th>\n",
       "      <th>...</th>\n",
       "      <th>Plaza</th>\n",
       "      <th>Residential Building (Apartment / Condo)</th>\n",
       "      <th>Resort</th>\n",
       "      <th>Restaurant</th>\n",
       "      <th>Seafood Restaurant</th>\n",
       "      <th>Shoe Store</th>\n",
       "      <th>Shopping Mall</th>\n",
       "      <th>Shopping Plaza</th>\n",
       "      <th>Steakhouse</th>\n",
       "      <th>Tea Room</th>\n",
       "    </tr>\n",
       "    <tr>\n",
       "      <th>address</th>\n",
       "      <th></th>\n",
       "      <th></th>\n",
       "      <th></th>\n",
       "      <th></th>\n",
       "      <th></th>\n",
       "      <th></th>\n",
       "      <th></th>\n",
       "      <th></th>\n",
       "      <th></th>\n",
       "      <th></th>\n",
       "      <th></th>\n",
       "      <th></th>\n",
       "      <th></th>\n",
       "      <th></th>\n",
       "      <th></th>\n",
       "      <th></th>\n",
       "      <th></th>\n",
       "      <th></th>\n",
       "      <th></th>\n",
       "      <th></th>\n",
       "      <th></th>\n",
       "    </tr>\n",
       "  </thead>\n",
       "  <tbody>\n",
       "    <tr>\n",
       "      <th>1 Mohammed bin Rashid Blvd</th>\n",
       "      <td>0</td>\n",
       "      <td>0</td>\n",
       "      <td>0</td>\n",
       "      <td>0</td>\n",
       "      <td>0</td>\n",
       "      <td>0</td>\n",
       "      <td>0</td>\n",
       "      <td>0</td>\n",
       "      <td>0</td>\n",
       "      <td>0</td>\n",
       "      <td>...</td>\n",
       "      <td>0</td>\n",
       "      <td>0</td>\n",
       "      <td>0</td>\n",
       "      <td>0</td>\n",
       "      <td>0</td>\n",
       "      <td>0</td>\n",
       "      <td>0</td>\n",
       "      <td>0</td>\n",
       "      <td>0</td>\n",
       "      <td>0</td>\n",
       "    </tr>\n",
       "    <tr>\n",
       "      <th>1 Sheikh Mohammed Bin Rashid Boulevard</th>\n",
       "      <td>0</td>\n",
       "      <td>0</td>\n",
       "      <td>0</td>\n",
       "      <td>0</td>\n",
       "      <td>0</td>\n",
       "      <td>0</td>\n",
       "      <td>0</td>\n",
       "      <td>0</td>\n",
       "      <td>0</td>\n",
       "      <td>0</td>\n",
       "      <td>...</td>\n",
       "      <td>0</td>\n",
       "      <td>1</td>\n",
       "      <td>0</td>\n",
       "      <td>0</td>\n",
       "      <td>0</td>\n",
       "      <td>0</td>\n",
       "      <td>0</td>\n",
       "      <td>0</td>\n",
       "      <td>0</td>\n",
       "      <td>0</td>\n",
       "    </tr>\n",
       "    <tr>\n",
       "      <th>168 Jumeira Rd</th>\n",
       "      <td>0</td>\n",
       "      <td>0</td>\n",
       "      <td>0</td>\n",
       "      <td>0</td>\n",
       "      <td>0</td>\n",
       "      <td>0</td>\n",
       "      <td>0</td>\n",
       "      <td>0</td>\n",
       "      <td>0</td>\n",
       "      <td>0</td>\n",
       "      <td>...</td>\n",
       "      <td>0</td>\n",
       "      <td>0</td>\n",
       "      <td>0</td>\n",
       "      <td>0</td>\n",
       "      <td>0</td>\n",
       "      <td>0</td>\n",
       "      <td>0</td>\n",
       "      <td>0</td>\n",
       "      <td>0</td>\n",
       "      <td>0</td>\n",
       "    </tr>\n",
       "    <tr>\n",
       "      <th>3 Sheikh Zayed Road</th>\n",
       "      <td>0</td>\n",
       "      <td>0</td>\n",
       "      <td>0</td>\n",
       "      <td>0</td>\n",
       "      <td>0</td>\n",
       "      <td>0</td>\n",
       "      <td>0</td>\n",
       "      <td>0</td>\n",
       "      <td>0</td>\n",
       "      <td>0</td>\n",
       "      <td>...</td>\n",
       "      <td>0</td>\n",
       "      <td>0</td>\n",
       "      <td>0</td>\n",
       "      <td>0</td>\n",
       "      <td>0</td>\n",
       "      <td>0</td>\n",
       "      <td>0</td>\n",
       "      <td>0</td>\n",
       "      <td>0</td>\n",
       "      <td>0</td>\n",
       "    </tr>\n",
       "    <tr>\n",
       "      <th>Al Boursa Street DIFC</th>\n",
       "      <td>0</td>\n",
       "      <td>0</td>\n",
       "      <td>0</td>\n",
       "      <td>0</td>\n",
       "      <td>0</td>\n",
       "      <td>0</td>\n",
       "      <td>0</td>\n",
       "      <td>0</td>\n",
       "      <td>1</td>\n",
       "      <td>0</td>\n",
       "      <td>...</td>\n",
       "      <td>0</td>\n",
       "      <td>0</td>\n",
       "      <td>0</td>\n",
       "      <td>0</td>\n",
       "      <td>0</td>\n",
       "      <td>0</td>\n",
       "      <td>0</td>\n",
       "      <td>0</td>\n",
       "      <td>0</td>\n",
       "      <td>0</td>\n",
       "    </tr>\n",
       "  </tbody>\n",
       "</table>\n",
       "<p>5 rows × 50 columns</p>\n",
       "</div>"
      ],
      "text/plain": [
       "                                        Airport Service  American Restaurant  \\\n",
       "address                                                                        \n",
       "1 Mohammed bin Rashid Blvd                            0                    0   \n",
       "1 Sheikh Mohammed Bin Rashid Boulevard                0                    0   \n",
       "168 Jumeira Rd                                        0                    0   \n",
       "3 Sheikh Zayed Road                                   0                    0   \n",
       "Al Boursa Street DIFC                                 0                    0   \n",
       "\n",
       "                                        Asian Restaurant  Bakery  Beach  \\\n",
       "address                                                                   \n",
       "1 Mohammed bin Rashid Blvd                             0       0      0   \n",
       "1 Sheikh Mohammed Bin Rashid Boulevard                 0       0      0   \n",
       "168 Jumeira Rd                                         0       0      0   \n",
       "3 Sheikh Zayed Road                                    0       0      0   \n",
       "Al Boursa Street DIFC                                  0       0      0   \n",
       "\n",
       "                                        Beach Bar  Bookstore  Boutique  \\\n",
       "address                                                                  \n",
       "1 Mohammed bin Rashid Blvd                      0          0         0   \n",
       "1 Sheikh Mohammed Bin Rashid Boulevard          0          0         0   \n",
       "168 Jumeira Rd                                  0          0         0   \n",
       "3 Sheikh Zayed Road                             0          0         0   \n",
       "Al Boursa Street DIFC                           0          0         0   \n",
       "\n",
       "                                        Brazilian Restaurant  Burger Joint  \\\n",
       "address                                                                      \n",
       "1 Mohammed bin Rashid Blvd                                 0             0   \n",
       "1 Sheikh Mohammed Bin Rashid Boulevard                     0             0   \n",
       "168 Jumeira Rd                                             0             0   \n",
       "3 Sheikh Zayed Road                                        0             0   \n",
       "Al Boursa Street DIFC                                      1             0   \n",
       "\n",
       "                                        ...  Plaza  \\\n",
       "address                                 ...          \n",
       "1 Mohammed bin Rashid Blvd              ...      0   \n",
       "1 Sheikh Mohammed Bin Rashid Boulevard  ...      0   \n",
       "168 Jumeira Rd                          ...      0   \n",
       "3 Sheikh Zayed Road                     ...      0   \n",
       "Al Boursa Street DIFC                   ...      0   \n",
       "\n",
       "                                        Residential Building (Apartment / Condo)  \\\n",
       "address                                                                            \n",
       "1 Mohammed bin Rashid Blvd                                                     0   \n",
       "1 Sheikh Mohammed Bin Rashid Boulevard                                         1   \n",
       "168 Jumeira Rd                                                                 0   \n",
       "3 Sheikh Zayed Road                                                            0   \n",
       "Al Boursa Street DIFC                                                          0   \n",
       "\n",
       "                                        Resort  Restaurant  \\\n",
       "address                                                      \n",
       "1 Mohammed bin Rashid Blvd                   0           0   \n",
       "1 Sheikh Mohammed Bin Rashid Boulevard       0           0   \n",
       "168 Jumeira Rd                               0           0   \n",
       "3 Sheikh Zayed Road                          0           0   \n",
       "Al Boursa Street DIFC                        0           0   \n",
       "\n",
       "                                        Seafood Restaurant  Shoe Store  \\\n",
       "address                                                                  \n",
       "1 Mohammed bin Rashid Blvd                               0           0   \n",
       "1 Sheikh Mohammed Bin Rashid Boulevard                   0           0   \n",
       "168 Jumeira Rd                                           0           0   \n",
       "3 Sheikh Zayed Road                                      0           0   \n",
       "Al Boursa Street DIFC                                    0           0   \n",
       "\n",
       "                                        Shopping Mall  Shopping Plaza  \\\n",
       "address                                                                 \n",
       "1 Mohammed bin Rashid Blvd                          0               0   \n",
       "1 Sheikh Mohammed Bin Rashid Boulevard              0               0   \n",
       "168 Jumeira Rd                                      0               0   \n",
       "3 Sheikh Zayed Road                                 0               0   \n",
       "Al Boursa Street DIFC                               0               0   \n",
       "\n",
       "                                        Steakhouse  Tea Room  \n",
       "address                                                       \n",
       "1 Mohammed bin Rashid Blvd                       0         0  \n",
       "1 Sheikh Mohammed Bin Rashid Boulevard           0         0  \n",
       "168 Jumeira Rd                                   0         0  \n",
       "3 Sheikh Zayed Road                              0         0  \n",
       "Al Boursa Street DIFC                            0         0  \n",
       "\n",
       "[5 rows x 50 columns]"
      ]
     },
     "execution_count": 8,
     "metadata": {},
     "output_type": "execute_result"
    }
   ],
   "source": [
    "df.head()"
   ]
  },
  {
   "cell_type": "markdown",
   "metadata": {},
   "source": [
    "As can be seen the below table; most neighbohood/community have only one venue category due to the sparsity of the data. We do not expect accurate modelling from this data."
   ]
  },
  {
   "cell_type": "code",
   "execution_count": 9,
   "metadata": {},
   "outputs": [
    {
     "data": {
      "text/plain": [
       "address\n",
       "1 Mohammed bin Rashid Blvd         1\n",
       "Mercato Mall                       1\n",
       "Marasi Drive                       1\n",
       "La Mer                             1\n",
       "Jumeirah Bay Island                1\n",
       "                                  ..\n",
       "Pearl Jumeirah                     2\n",
       "Sheikh Mohammed Bin Rashid Blvd    2\n",
       "Al Wasl                            3\n",
       "Jumeirah Beach Rd                  4\n",
       "The Dubai Mall                     9\n",
       "Length: 77, dtype: int64"
      ]
     },
     "execution_count": 9,
     "metadata": {},
     "output_type": "execute_result"
    }
   ],
   "source": [
    "df.sum(axis=1).sort_values()"
   ]
  },
  {
   "cell_type": "markdown",
   "metadata": {},
   "source": [
    "#### b. Clustering"
   ]
  },
  {
   "cell_type": "markdown",
   "metadata": {},
   "source": [
    "KMeans clustering was used with 3 clusters. This is because it is the simplist algorithm to implament and thus, the most explainable; which is the most suitable for sparse data."
   ]
  },
  {
   "cell_type": "markdown",
   "metadata": {},
   "source": [
    "### 4. Results"
   ]
  },
  {
   "cell_type": "markdown",
   "metadata": {},
   "source": [
    "As can be seen below, each cluster does not have any unique properties due to the sparsity of the data."
   ]
  },
  {
   "cell_type": "code",
   "execution_count": 30,
   "metadata": {},
   "outputs": [
    {
     "data": {
      "text/html": [
       "<div>\n",
       "<style scoped>\n",
       "    .dataframe tbody tr th:only-of-type {\n",
       "        vertical-align: middle;\n",
       "    }\n",
       "\n",
       "    .dataframe tbody tr th {\n",
       "        vertical-align: top;\n",
       "    }\n",
       "\n",
       "    .dataframe thead th {\n",
       "        text-align: right;\n",
       "    }\n",
       "</style>\n",
       "<table border=\"1\" class=\"dataframe\">\n",
       "  <thead>\n",
       "    <tr style=\"text-align: right;\">\n",
       "      <th></th>\n",
       "      <th>Airport Service</th>\n",
       "      <th>American Restaurant</th>\n",
       "      <th>Asian Restaurant</th>\n",
       "      <th>Bakery</th>\n",
       "      <th>Beach</th>\n",
       "      <th>Beach Bar</th>\n",
       "      <th>Bookstore</th>\n",
       "      <th>Boutique</th>\n",
       "      <th>Brazilian Restaurant</th>\n",
       "      <th>Burger Joint</th>\n",
       "      <th>...</th>\n",
       "      <th>Residential Building (Apartment / Condo)</th>\n",
       "      <th>Resort</th>\n",
       "      <th>Restaurant</th>\n",
       "      <th>Seafood Restaurant</th>\n",
       "      <th>Shoe Store</th>\n",
       "      <th>Shopping Mall</th>\n",
       "      <th>Shopping Plaza</th>\n",
       "      <th>Steakhouse</th>\n",
       "      <th>Tea Room</th>\n",
       "      <th>predicted_clusters</th>\n",
       "    </tr>\n",
       "    <tr>\n",
       "      <th>address</th>\n",
       "      <th></th>\n",
       "      <th></th>\n",
       "      <th></th>\n",
       "      <th></th>\n",
       "      <th></th>\n",
       "      <th></th>\n",
       "      <th></th>\n",
       "      <th></th>\n",
       "      <th></th>\n",
       "      <th></th>\n",
       "      <th></th>\n",
       "      <th></th>\n",
       "      <th></th>\n",
       "      <th></th>\n",
       "      <th></th>\n",
       "      <th></th>\n",
       "      <th></th>\n",
       "      <th></th>\n",
       "      <th></th>\n",
       "      <th></th>\n",
       "      <th></th>\n",
       "    </tr>\n",
       "  </thead>\n",
       "  <tbody>\n",
       "    <tr>\n",
       "      <th>Gate Village 06, DIFC</th>\n",
       "      <td>0</td>\n",
       "      <td>0</td>\n",
       "      <td>0</td>\n",
       "      <td>0</td>\n",
       "      <td>0</td>\n",
       "      <td>0</td>\n",
       "      <td>0</td>\n",
       "      <td>0</td>\n",
       "      <td>0</td>\n",
       "      <td>0</td>\n",
       "      <td>...</td>\n",
       "      <td>0</td>\n",
       "      <td>0</td>\n",
       "      <td>0</td>\n",
       "      <td>0</td>\n",
       "      <td>0</td>\n",
       "      <td>0</td>\n",
       "      <td>0</td>\n",
       "      <td>0</td>\n",
       "      <td>0</td>\n",
       "      <td>0</td>\n",
       "    </tr>\n",
       "    <tr>\n",
       "      <th>3 Sheikh Zayed Road</th>\n",
       "      <td>0</td>\n",
       "      <td>0</td>\n",
       "      <td>0</td>\n",
       "      <td>0</td>\n",
       "      <td>0</td>\n",
       "      <td>0</td>\n",
       "      <td>0</td>\n",
       "      <td>0</td>\n",
       "      <td>0</td>\n",
       "      <td>0</td>\n",
       "      <td>...</td>\n",
       "      <td>0</td>\n",
       "      <td>0</td>\n",
       "      <td>0</td>\n",
       "      <td>0</td>\n",
       "      <td>0</td>\n",
       "      <td>0</td>\n",
       "      <td>0</td>\n",
       "      <td>0</td>\n",
       "      <td>0</td>\n",
       "      <td>2</td>\n",
       "    </tr>\n",
       "  </tbody>\n",
       "</table>\n",
       "<p>2 rows × 51 columns</p>\n",
       "</div>"
      ],
      "text/plain": [
       "                       Airport Service  American Restaurant  Asian Restaurant  \\\n",
       "address                                                                         \n",
       "Gate Village 06, DIFC                0                    0                 0   \n",
       "3 Sheikh Zayed Road                  0                    0                 0   \n",
       "\n",
       "                       Bakery  Beach  Beach Bar  Bookstore  Boutique  \\\n",
       "address                                                                \n",
       "Gate Village 06, DIFC       0      0          0          0         0   \n",
       "3 Sheikh Zayed Road         0      0          0          0         0   \n",
       "\n",
       "                       Brazilian Restaurant  Burger Joint  ...  \\\n",
       "address                                                    ...   \n",
       "Gate Village 06, DIFC                     0             0  ...   \n",
       "3 Sheikh Zayed Road                       0             0  ...   \n",
       "\n",
       "                       Residential Building (Apartment / Condo)  Resort  \\\n",
       "address                                                                   \n",
       "Gate Village 06, DIFC                                         0       0   \n",
       "3 Sheikh Zayed Road                                           0       0   \n",
       "\n",
       "                       Restaurant  Seafood Restaurant  Shoe Store  \\\n",
       "address                                                             \n",
       "Gate Village 06, DIFC           0                   0           0   \n",
       "3 Sheikh Zayed Road             0                   0           0   \n",
       "\n",
       "                       Shopping Mall  Shopping Plaza  Steakhouse  Tea Room  \\\n",
       "address                                                                      \n",
       "Gate Village 06, DIFC              0               0           0         0   \n",
       "3 Sheikh Zayed Road                0               0           0         0   \n",
       "\n",
       "                       predicted_clusters  \n",
       "address                                    \n",
       "Gate Village 06, DIFC                   0  \n",
       "3 Sheikh Zayed Road                     2  \n",
       "\n",
       "[2 rows x 51 columns]"
      ]
     },
     "execution_count": 30,
     "metadata": {},
     "output_type": "execute_result"
    }
   ],
   "source": [
    "X_test.head(2)"
   ]
  },
  {
   "cell_type": "markdown",
   "metadata": {},
   "source": [
    "### 5. Discussion"
   ]
  },
  {
   "cell_type": "markdown",
   "metadata": {},
   "source": [
    "The sparsity of the data from the Foursquare API for venues in Dubai was an extremely large hurdle for producing satisfying modelling. It was attempted to use other datasets. However, no suitable dataset was found.\n",
    "\n",
    "If a suitable dataset was to be found, the above methodology can be used to provide more satisfactory results."
   ]
  },
  {
   "cell_type": "markdown",
   "metadata": {},
   "source": [
    "### 5. Conclusion"
   ]
  },
  {
   "cell_type": "markdown",
   "metadata": {},
   "source": [
    "No suitable results were found due to the lack of data. However, in the case that suitable data is found the above methodolgy might provide better results.\n"
   ]
  }
 ],
 "metadata": {
  "kernelspec": {
   "display_name": "Python 3",
   "language": "python",
   "name": "python3"
  },
  "language_info": {
   "codemirror_mode": {
    "name": "ipython",
    "version": 3
   },
   "file_extension": ".py",
   "mimetype": "text/x-python",
   "name": "python",
   "nbconvert_exporter": "python",
   "pygments_lexer": "ipython3",
   "version": "3.8.3"
  }
 },
 "nbformat": 4,
 "nbformat_minor": 4
}
