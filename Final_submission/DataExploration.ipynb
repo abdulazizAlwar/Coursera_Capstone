{
 "cells": [
  {
   "cell_type": "markdown",
   "metadata": {},
   "source": [
    "### Imports"
   ]
  },
  {
   "cell_type": "markdown",
   "metadata": {},
   "source": [
    "##### Libraries"
   ]
  },
  {
   "cell_type": "code",
   "execution_count": 1,
   "metadata": {},
   "outputs": [],
   "source": [
    "import pandas as pd\n",
    "import matplotlib.pyplot as plt\n",
    "import seaborn as sns"
   ]
  },
  {
   "cell_type": "code",
   "execution_count": 2,
   "metadata": {},
   "outputs": [],
   "source": [
    "pd.set_option('display.max_columns', None)\n",
    "pd.set_option('display.max_colwidth', None)"
   ]
  },
  {
   "cell_type": "markdown",
   "metadata": {},
   "source": [
    "## Explore Venues Dataset"
   ]
  },
  {
   "cell_type": "code",
   "execution_count": 3,
   "metadata": {},
   "outputs": [],
   "source": [
    "df = pd.read_csv('foursquare_dubai_venues.csv')"
   ]
  },
  {
   "cell_type": "markdown",
   "metadata": {},
   "source": [
    "### Statistics"
   ]
  },
  {
   "cell_type": "code",
   "execution_count": 4,
   "metadata": {},
   "outputs": [
    {
     "data": {
      "text/html": [
       "<div>\n",
       "<style scoped>\n",
       "    .dataframe tbody tr th:only-of-type {\n",
       "        vertical-align: middle;\n",
       "    }\n",
       "\n",
       "    .dataframe tbody tr th {\n",
       "        vertical-align: top;\n",
       "    }\n",
       "\n",
       "    .dataframe thead th {\n",
       "        text-align: right;\n",
       "    }\n",
       "</style>\n",
       "<table border=\"1\" class=\"dataframe\">\n",
       "  <thead>\n",
       "    <tr style=\"text-align: right;\">\n",
       "      <th></th>\n",
       "      <th>venue_id</th>\n",
       "      <th>venue_name</th>\n",
       "      <th>categories</th>\n",
       "      <th>city</th>\n",
       "      <th>state</th>\n",
       "      <th>neighborhood</th>\n",
       "      <th>address</th>\n",
       "      <th>venue.location.lat</th>\n",
       "      <th>venue.location.lng</th>\n",
       "      <th>country</th>\n",
       "    </tr>\n",
       "  </thead>\n",
       "  <tbody>\n",
       "    <tr>\n",
       "      <th>0</th>\n",
       "      <td>508e4b2ae4b01ceeb4ae3d37</td>\n",
       "      <td>Arabian Tea House Cafe</td>\n",
       "      <td>Tea Room</td>\n",
       "      <td>Dubai</td>\n",
       "      <td>Dubai</td>\n",
       "      <td>Al Souk Al Kabir</td>\n",
       "      <td>Al Fahidi St</td>\n",
       "      <td>25.263399</td>\n",
       "      <td>55.299695</td>\n",
       "      <td>AE</td>\n",
       "    </tr>\n",
       "    <tr>\n",
       "      <th>1</th>\n",
       "      <td>4b7d809af964a520c2c22fe3</td>\n",
       "      <td>Special Ostadi Kabab</td>\n",
       "      <td>Persian Restaurant</td>\n",
       "      <td>Dubai</td>\n",
       "      <td>Dubai</td>\n",
       "      <td>Al Hamriya</td>\n",
       "      <td>At Mankhool Rd</td>\n",
       "      <td>25.259961</td>\n",
       "      <td>55.298940</td>\n",
       "      <td>AE</td>\n",
       "    </tr>\n",
       "    <tr>\n",
       "      <th>2</th>\n",
       "      <td>5866b18245c3ed1e7db9931d</td>\n",
       "      <td>Nikki Beach Club</td>\n",
       "      <td>Beach Bar</td>\n",
       "      <td>Dubai</td>\n",
       "      <td>Dubai</td>\n",
       "      <td>NaN</td>\n",
       "      <td>Pearl Jumeirah</td>\n",
       "      <td>25.248306</td>\n",
       "      <td>55.256939</td>\n",
       "      <td>AE</td>\n",
       "    </tr>\n",
       "    <tr>\n",
       "      <th>3</th>\n",
       "      <td>556291a3498e3237b9ddf800</td>\n",
       "      <td>Fitness Time</td>\n",
       "      <td>Gym</td>\n",
       "      <td>Dubai</td>\n",
       "      <td>Dubai</td>\n",
       "      <td>NaN</td>\n",
       "      <td>NaN</td>\n",
       "      <td>25.289077</td>\n",
       "      <td>55.347913</td>\n",
       "      <td>AE</td>\n",
       "    </tr>\n",
       "    <tr>\n",
       "      <th>4</th>\n",
       "      <td>5a057657065ef54fbdec2747</td>\n",
       "      <td>The Coffee Lab - Mina Rashid</td>\n",
       "      <td>Coffee Shop</td>\n",
       "      <td>Dubai</td>\n",
       "      <td>Dubai</td>\n",
       "      <td>NaN</td>\n",
       "      <td>Port Rashid</td>\n",
       "      <td>25.258735</td>\n",
       "      <td>55.277499</td>\n",
       "      <td>AE</td>\n",
       "    </tr>\n",
       "  </tbody>\n",
       "</table>\n",
       "</div>"
      ],
      "text/plain": [
       "                   venue_id                     venue_name  \\\n",
       "0  508e4b2ae4b01ceeb4ae3d37        Arabian Tea House Cafe    \n",
       "1  4b7d809af964a520c2c22fe3          Special Ostadi Kabab    \n",
       "2  5866b18245c3ed1e7db9931d               Nikki Beach Club   \n",
       "3  556291a3498e3237b9ddf800                  Fitness Time    \n",
       "4  5a057657065ef54fbdec2747  The Coffee Lab - Mina Rashid    \n",
       "\n",
       "           categories   city  state      neighborhood         address  \\\n",
       "0            Tea Room  Dubai  Dubai  Al Souk Al Kabir    Al Fahidi St   \n",
       "1  Persian Restaurant  Dubai  Dubai        Al Hamriya  At Mankhool Rd   \n",
       "2           Beach Bar  Dubai  Dubai               NaN  Pearl Jumeirah   \n",
       "3                 Gym  Dubai  Dubai               NaN             NaN   \n",
       "4         Coffee Shop  Dubai  Dubai               NaN     Port Rashid   \n",
       "\n",
       "   venue.location.lat  venue.location.lng country  \n",
       "0           25.263399           55.299695      AE  \n",
       "1           25.259961           55.298940      AE  \n",
       "2           25.248306           55.256939      AE  \n",
       "3           25.289077           55.347913      AE  \n",
       "4           25.258735           55.277499      AE  "
      ]
     },
     "execution_count": 4,
     "metadata": {},
     "output_type": "execute_result"
    }
   ],
   "source": [
    "df.head()"
   ]
  },
  {
   "cell_type": "code",
   "execution_count": 5,
   "metadata": {},
   "outputs": [
    {
     "data": {
      "text/html": [
       "<div>\n",
       "<style scoped>\n",
       "    .dataframe tbody tr th:only-of-type {\n",
       "        vertical-align: middle;\n",
       "    }\n",
       "\n",
       "    .dataframe tbody tr th {\n",
       "        vertical-align: top;\n",
       "    }\n",
       "\n",
       "    .dataframe thead th {\n",
       "        text-align: right;\n",
       "    }\n",
       "</style>\n",
       "<table border=\"1\" class=\"dataframe\">\n",
       "  <thead>\n",
       "    <tr style=\"text-align: right;\">\n",
       "      <th></th>\n",
       "      <th>venue_id</th>\n",
       "      <th>venue_name</th>\n",
       "      <th>categories</th>\n",
       "      <th>city</th>\n",
       "      <th>state</th>\n",
       "      <th>neighborhood</th>\n",
       "      <th>address</th>\n",
       "      <th>venue.location.lat</th>\n",
       "      <th>venue.location.lng</th>\n",
       "      <th>country</th>\n",
       "    </tr>\n",
       "  </thead>\n",
       "  <tbody>\n",
       "    <tr>\n",
       "      <th>count</th>\n",
       "      <td>99</td>\n",
       "      <td>99</td>\n",
       "      <td>99</td>\n",
       "      <td>99</td>\n",
       "      <td>99</td>\n",
       "      <td>18</td>\n",
       "      <td>94</td>\n",
       "      <td>99.000000</td>\n",
       "      <td>99.000000</td>\n",
       "      <td>99</td>\n",
       "    </tr>\n",
       "    <tr>\n",
       "      <th>unique</th>\n",
       "      <td>99</td>\n",
       "      <td>99</td>\n",
       "      <td>50</td>\n",
       "      <td>1</td>\n",
       "      <td>1</td>\n",
       "      <td>11</td>\n",
       "      <td>77</td>\n",
       "      <td>NaN</td>\n",
       "      <td>NaN</td>\n",
       "      <td>1</td>\n",
       "    </tr>\n",
       "    <tr>\n",
       "      <th>top</th>\n",
       "      <td>56345c6b498e3714db27db29</td>\n",
       "      <td>La Mer</td>\n",
       "      <td>Hotel</td>\n",
       "      <td>Dubai</td>\n",
       "      <td>Dubai</td>\n",
       "      <td>Downtown Dubai</td>\n",
       "      <td>The Dubai Mall</td>\n",
       "      <td>NaN</td>\n",
       "      <td>NaN</td>\n",
       "      <td>AE</td>\n",
       "    </tr>\n",
       "    <tr>\n",
       "      <th>freq</th>\n",
       "      <td>1</td>\n",
       "      <td>1</td>\n",
       "      <td>20</td>\n",
       "      <td>99</td>\n",
       "      <td>99</td>\n",
       "      <td>5</td>\n",
       "      <td>9</td>\n",
       "      <td>NaN</td>\n",
       "      <td>NaN</td>\n",
       "      <td>99</td>\n",
       "    </tr>\n",
       "    <tr>\n",
       "      <th>mean</th>\n",
       "      <td>NaN</td>\n",
       "      <td>NaN</td>\n",
       "      <td>NaN</td>\n",
       "      <td>NaN</td>\n",
       "      <td>NaN</td>\n",
       "      <td>NaN</td>\n",
       "      <td>NaN</td>\n",
       "      <td>25.213162</td>\n",
       "      <td>55.278422</td>\n",
       "      <td>NaN</td>\n",
       "    </tr>\n",
       "    <tr>\n",
       "      <th>std</th>\n",
       "      <td>NaN</td>\n",
       "      <td>NaN</td>\n",
       "      <td>NaN</td>\n",
       "      <td>NaN</td>\n",
       "      <td>NaN</td>\n",
       "      <td>NaN</td>\n",
       "      <td>NaN</td>\n",
       "      <td>0.021502</td>\n",
       "      <td>0.024705</td>\n",
       "      <td>NaN</td>\n",
       "    </tr>\n",
       "    <tr>\n",
       "      <th>min</th>\n",
       "      <td>NaN</td>\n",
       "      <td>NaN</td>\n",
       "      <td>NaN</td>\n",
       "      <td>NaN</td>\n",
       "      <td>NaN</td>\n",
       "      <td>NaN</td>\n",
       "      <td>NaN</td>\n",
       "      <td>25.185401</td>\n",
       "      <td>55.236428</td>\n",
       "      <td>NaN</td>\n",
       "    </tr>\n",
       "    <tr>\n",
       "      <th>25%</th>\n",
       "      <td>NaN</td>\n",
       "      <td>NaN</td>\n",
       "      <td>NaN</td>\n",
       "      <td>NaN</td>\n",
       "      <td>NaN</td>\n",
       "      <td>NaN</td>\n",
       "      <td>NaN</td>\n",
       "      <td>25.197649</td>\n",
       "      <td>55.261702</td>\n",
       "      <td>NaN</td>\n",
       "    </tr>\n",
       "    <tr>\n",
       "      <th>50%</th>\n",
       "      <td>NaN</td>\n",
       "      <td>NaN</td>\n",
       "      <td>NaN</td>\n",
       "      <td>NaN</td>\n",
       "      <td>NaN</td>\n",
       "      <td>NaN</td>\n",
       "      <td>NaN</td>\n",
       "      <td>25.208278</td>\n",
       "      <td>55.277855</td>\n",
       "      <td>NaN</td>\n",
       "    </tr>\n",
       "    <tr>\n",
       "      <th>75%</th>\n",
       "      <td>NaN</td>\n",
       "      <td>NaN</td>\n",
       "      <td>NaN</td>\n",
       "      <td>NaN</td>\n",
       "      <td>NaN</td>\n",
       "      <td>NaN</td>\n",
       "      <td>NaN</td>\n",
       "      <td>25.221227</td>\n",
       "      <td>55.282586</td>\n",
       "      <td>NaN</td>\n",
       "    </tr>\n",
       "    <tr>\n",
       "      <th>max</th>\n",
       "      <td>NaN</td>\n",
       "      <td>NaN</td>\n",
       "      <td>NaN</td>\n",
       "      <td>NaN</td>\n",
       "      <td>NaN</td>\n",
       "      <td>NaN</td>\n",
       "      <td>NaN</td>\n",
       "      <td>25.306597</td>\n",
       "      <td>55.361266</td>\n",
       "      <td>NaN</td>\n",
       "    </tr>\n",
       "  </tbody>\n",
       "</table>\n",
       "</div>"
      ],
      "text/plain": [
       "                        venue_id venue_name categories   city  state  \\\n",
       "count                         99         99         99     99     99   \n",
       "unique                        99         99         50      1      1   \n",
       "top     56345c6b498e3714db27db29    La Mer       Hotel  Dubai  Dubai   \n",
       "freq                           1          1         20     99     99   \n",
       "mean                         NaN        NaN        NaN    NaN    NaN   \n",
       "std                          NaN        NaN        NaN    NaN    NaN   \n",
       "min                          NaN        NaN        NaN    NaN    NaN   \n",
       "25%                          NaN        NaN        NaN    NaN    NaN   \n",
       "50%                          NaN        NaN        NaN    NaN    NaN   \n",
       "75%                          NaN        NaN        NaN    NaN    NaN   \n",
       "max                          NaN        NaN        NaN    NaN    NaN   \n",
       "\n",
       "          neighborhood         address  venue.location.lat  \\\n",
       "count               18              94           99.000000   \n",
       "unique              11              77                 NaN   \n",
       "top     Downtown Dubai  The Dubai Mall                 NaN   \n",
       "freq                 5               9                 NaN   \n",
       "mean               NaN             NaN           25.213162   \n",
       "std                NaN             NaN            0.021502   \n",
       "min                NaN             NaN           25.185401   \n",
       "25%                NaN             NaN           25.197649   \n",
       "50%                NaN             NaN           25.208278   \n",
       "75%                NaN             NaN           25.221227   \n",
       "max                NaN             NaN           25.306597   \n",
       "\n",
       "        venue.location.lng country  \n",
       "count            99.000000      99  \n",
       "unique                 NaN       1  \n",
       "top                    NaN      AE  \n",
       "freq                   NaN      99  \n",
       "mean             55.278422     NaN  \n",
       "std               0.024705     NaN  \n",
       "min              55.236428     NaN  \n",
       "25%              55.261702     NaN  \n",
       "50%              55.277855     NaN  \n",
       "75%              55.282586     NaN  \n",
       "max              55.361266     NaN  "
      ]
     },
     "execution_count": 5,
     "metadata": {},
     "output_type": "execute_result"
    }
   ],
   "source": [
    "df.describe(include='all')"
   ]
  },
  {
   "cell_type": "code",
   "execution_count": 6,
   "metadata": {},
   "outputs": [
    {
     "data": {
      "text/plain": [
       "array(['Tea Room', 'Persian Restaurant', 'Beach Bar', 'Gym',\n",
       "       'Coffee Shop', 'Plaza', 'Golf Course', 'Resort', 'Hotel',\n",
       "       'Steakhouse', 'Beach', 'Burger Joint', 'Brazilian Restaurant',\n",
       "       'French Restaurant', 'Japanese Restaurant', 'Café', 'Restaurant',\n",
       "       'Monument / Landmark', 'Shopping Plaza', 'Movie Theater',\n",
       "       'Boutique', 'Cocktail Bar', 'Shopping Mall', 'Bookstore',\n",
       "       'Jewelry Store', 'Italian Restaurant', 'Shoe Store', 'Opera House',\n",
       "       'Greek Restaurant', 'Fountain', 'Multiplex', 'Diner',\n",
       "       'Indian Restaurant', 'Department Store', 'Airport Service',\n",
       "       'American Restaurant', 'Lounge', 'Seafood Restaurant',\n",
       "       'Mediterranean Restaurant', 'Chinese Restaurant', 'Hookah Bar',\n",
       "       'Bakery', 'Peruvian Restaurant', 'Gym / Fitness Center',\n",
       "       'Leather Goods Store', 'Cupcake Shop', 'Canal',\n",
       "       'Electronics Store', 'Asian Restaurant',\n",
       "       'Residential Building (Apartment / Condo)'], dtype=object)"
      ]
     },
     "execution_count": 6,
     "metadata": {},
     "output_type": "execute_result"
    }
   ],
   "source": [
    "df['categories'].unique()"
   ]
  },
  {
   "cell_type": "code",
   "execution_count": 7,
   "metadata": {},
   "outputs": [
    {
     "data": {
      "text/plain": [
       "Downtown Dubai              5\n",
       "Jumeirah 2                  3\n",
       "Al Wasl                     2\n",
       "Al Souk Al Kabir            1\n",
       "Zabeel 2                    1\n",
       "وسط مدينة دبي               1\n",
       "Jumeirah 1                  1\n",
       "Ras Al Khor                 1\n",
       "Dubai Design District       1\n",
       "Al Hamriya                  1\n",
       "World Trade Centre (WTC)    1\n",
       "Name: neighborhood, dtype: int64"
      ]
     },
     "execution_count": 7,
     "metadata": {},
     "output_type": "execute_result"
    }
   ],
   "source": [
    "df['neighborhood'].value_counts()"
   ]
  },
  {
   "cell_type": "code",
   "execution_count": 8,
   "metadata": {},
   "outputs": [
    {
     "data": {
      "text/plain": [
       "Dubai    99\n",
       "Name: city, dtype: int64"
      ]
     },
     "execution_count": 8,
     "metadata": {},
     "output_type": "execute_result"
    }
   ],
   "source": [
    "df['city'].value_counts()"
   ]
  },
  {
   "cell_type": "code",
   "execution_count": 9,
   "metadata": {},
   "outputs": [
    {
     "data": {
      "text/plain": [
       "Dubai    99\n",
       "Name: state, dtype: int64"
      ]
     },
     "execution_count": 9,
     "metadata": {},
     "output_type": "execute_result"
    }
   ],
   "source": [
    "df['state'].value_counts()"
   ]
  },
  {
   "cell_type": "code",
   "execution_count": 10,
   "metadata": {},
   "outputs": [
    {
     "data": {
      "text/html": [
       "<div>\n",
       "<style scoped>\n",
       "    .dataframe tbody tr th:only-of-type {\n",
       "        vertical-align: middle;\n",
       "    }\n",
       "\n",
       "    .dataframe tbody tr th {\n",
       "        vertical-align: top;\n",
       "    }\n",
       "\n",
       "    .dataframe thead th {\n",
       "        text-align: right;\n",
       "    }\n",
       "</style>\n",
       "<table border=\"1\" class=\"dataframe\">\n",
       "  <thead>\n",
       "    <tr style=\"text-align: right;\">\n",
       "      <th></th>\n",
       "      <th>venue_id</th>\n",
       "      <th>venue_name</th>\n",
       "      <th>categories</th>\n",
       "      <th>city</th>\n",
       "      <th>state</th>\n",
       "      <th>neighborhood</th>\n",
       "      <th>address</th>\n",
       "      <th>venue.location.lat</th>\n",
       "      <th>venue.location.lng</th>\n",
       "      <th>country</th>\n",
       "    </tr>\n",
       "  </thead>\n",
       "  <tbody>\n",
       "  </tbody>\n",
       "</table>\n",
       "</div>"
      ],
      "text/plain": [
       "Empty DataFrame\n",
       "Columns: [venue_id, venue_name, categories, city, state, neighborhood, address, venue.location.lat, venue.location.lng, country]\n",
       "Index: []"
      ]
     },
     "execution_count": 10,
     "metadata": {},
     "output_type": "execute_result"
    }
   ],
   "source": [
    "df.loc[df['state'] == 'الشارقة']"
   ]
  },
  {
   "cell_type": "code",
   "execution_count": 11,
   "metadata": {},
   "outputs": [
    {
     "data": {
      "text/html": [
       "<div>\n",
       "<style scoped>\n",
       "    .dataframe tbody tr th:only-of-type {\n",
       "        vertical-align: middle;\n",
       "    }\n",
       "\n",
       "    .dataframe tbody tr th {\n",
       "        vertical-align: top;\n",
       "    }\n",
       "\n",
       "    .dataframe thead th {\n",
       "        text-align: right;\n",
       "    }\n",
       "</style>\n",
       "<table border=\"1\" class=\"dataframe\">\n",
       "  <thead>\n",
       "    <tr style=\"text-align: right;\">\n",
       "      <th></th>\n",
       "      <th>venue_id</th>\n",
       "      <th>venue_name</th>\n",
       "      <th>categories</th>\n",
       "      <th>city</th>\n",
       "      <th>state</th>\n",
       "      <th>neighborhood</th>\n",
       "      <th>address</th>\n",
       "      <th>venue.location.lat</th>\n",
       "      <th>venue.location.lng</th>\n",
       "      <th>country</th>\n",
       "    </tr>\n",
       "  </thead>\n",
       "  <tbody>\n",
       "  </tbody>\n",
       "</table>\n",
       "</div>"
      ],
      "text/plain": [
       "Empty DataFrame\n",
       "Columns: [venue_id, venue_name, categories, city, state, neighborhood, address, venue.location.lat, venue.location.lng, country]\n",
       "Index: []"
      ]
     },
     "execution_count": 11,
     "metadata": {},
     "output_type": "execute_result"
    }
   ],
   "source": [
    "df.loc[df['state'] == 'Jumeirah 1']"
   ]
  },
  {
   "cell_type": "markdown",
   "metadata": {},
   "source": [
    "## Explore Communities Dataset"
   ]
  },
  {
   "cell_type": "code",
   "execution_count": 14,
   "metadata": {},
   "outputs": [],
   "source": [
    "df = pd.read_csv('wiki_dubai_communities.csv')"
   ]
  },
  {
   "cell_type": "markdown",
   "metadata": {},
   "source": [
    "### Statistics"
   ]
  },
  {
   "cell_type": "code",
   "execution_count": 15,
   "metadata": {},
   "outputs": [
    {
     "data": {
      "text/html": [
       "<div>\n",
       "<style scoped>\n",
       "    .dataframe tbody tr th:only-of-type {\n",
       "        vertical-align: middle;\n",
       "    }\n",
       "\n",
       "    .dataframe tbody tr th {\n",
       "        vertical-align: top;\n",
       "    }\n",
       "\n",
       "    .dataframe thead th {\n",
       "        text-align: right;\n",
       "    }\n",
       "</style>\n",
       "<table border=\"1\" class=\"dataframe\">\n",
       "  <thead>\n",
       "    <tr style=\"text-align: right;\">\n",
       "      <th></th>\n",
       "      <th>Community Number</th>\n",
       "      <th>Community Name</th>\n",
       "      <th>Area(km2)</th>\n",
       "    </tr>\n",
       "  </thead>\n",
       "  <tbody>\n",
       "    <tr>\n",
       "      <th>0</th>\n",
       "      <td>126</td>\n",
       "      <td>Abu Hail</td>\n",
       "      <td>1.27</td>\n",
       "    </tr>\n",
       "    <tr>\n",
       "      <th>1</th>\n",
       "      <td>711</td>\n",
       "      <td>Al Awir First</td>\n",
       "      <td>NaN</td>\n",
       "    </tr>\n",
       "    <tr>\n",
       "      <th>2</th>\n",
       "      <td>721</td>\n",
       "      <td>Al Awir Second</td>\n",
       "      <td>NaN</td>\n",
       "    </tr>\n",
       "    <tr>\n",
       "      <th>3</th>\n",
       "      <td>283</td>\n",
       "      <td>Aleyas</td>\n",
       "      <td>162.40</td>\n",
       "    </tr>\n",
       "    <tr>\n",
       "      <th>4</th>\n",
       "      <td>333</td>\n",
       "      <td>Al Bada'a</td>\n",
       "      <td>0.82</td>\n",
       "    </tr>\n",
       "  </tbody>\n",
       "</table>\n",
       "</div>"
      ],
      "text/plain": [
       "   Community Number  Community Name  Area(km2)\n",
       "0               126        Abu Hail       1.27\n",
       "1               711   Al Awir First        NaN\n",
       "2               721  Al Awir Second        NaN\n",
       "3               283          Aleyas     162.40\n",
       "4               333       Al Bada'a       0.82"
      ]
     },
     "execution_count": 15,
     "metadata": {},
     "output_type": "execute_result"
    }
   ],
   "source": [
    "df.head()"
   ]
  },
  {
   "cell_type": "code",
   "execution_count": 16,
   "metadata": {},
   "outputs": [
    {
     "data": {
      "text/html": [
       "<div>\n",
       "<style scoped>\n",
       "    .dataframe tbody tr th:only-of-type {\n",
       "        vertical-align: middle;\n",
       "    }\n",
       "\n",
       "    .dataframe tbody tr th {\n",
       "        vertical-align: top;\n",
       "    }\n",
       "\n",
       "    .dataframe thead th {\n",
       "        text-align: right;\n",
       "    }\n",
       "</style>\n",
       "<table border=\"1\" class=\"dataframe\">\n",
       "  <thead>\n",
       "    <tr style=\"text-align: right;\">\n",
       "      <th></th>\n",
       "      <th>Community Number</th>\n",
       "      <th>Community Name</th>\n",
       "      <th>Area(km2)</th>\n",
       "    </tr>\n",
       "  </thead>\n",
       "  <tbody>\n",
       "    <tr>\n",
       "      <th>count</th>\n",
       "      <td>145.000000</td>\n",
       "      <td>145</td>\n",
       "      <td>111.000000</td>\n",
       "    </tr>\n",
       "    <tr>\n",
       "      <th>unique</th>\n",
       "      <td>NaN</td>\n",
       "      <td>145</td>\n",
       "      <td>NaN</td>\n",
       "    </tr>\n",
       "    <tr>\n",
       "      <th>top</th>\n",
       "      <td>NaN</td>\n",
       "      <td>Al Mamzar</td>\n",
       "      <td>NaN</td>\n",
       "    </tr>\n",
       "    <tr>\n",
       "      <th>freq</th>\n",
       "      <td>NaN</td>\n",
       "      <td>1</td>\n",
       "      <td>NaN</td>\n",
       "    </tr>\n",
       "    <tr>\n",
       "      <th>mean</th>\n",
       "      <td>384.068966</td>\n",
       "      <td>NaN</td>\n",
       "      <td>13.842423</td>\n",
       "    </tr>\n",
       "    <tr>\n",
       "      <th>std</th>\n",
       "      <td>218.663258</td>\n",
       "      <td>NaN</td>\n",
       "      <td>20.919408</td>\n",
       "    </tr>\n",
       "    <tr>\n",
       "      <th>min</th>\n",
       "      <td>50.000000</td>\n",
       "      <td>NaN</td>\n",
       "      <td>0.070000</td>\n",
       "    </tr>\n",
       "    <tr>\n",
       "      <th>25%</th>\n",
       "      <td>244.000000</td>\n",
       "      <td>NaN</td>\n",
       "      <td>1.665000</td>\n",
       "    </tr>\n",
       "    <tr>\n",
       "      <th>50%</th>\n",
       "      <td>337.000000</td>\n",
       "      <td>NaN</td>\n",
       "      <td>6.900000</td>\n",
       "    </tr>\n",
       "    <tr>\n",
       "      <th>75%</th>\n",
       "      <td>422.000000</td>\n",
       "      <td>NaN</td>\n",
       "      <td>17.100000</td>\n",
       "    </tr>\n",
       "    <tr>\n",
       "      <th>max</th>\n",
       "      <td>971.000000</td>\n",
       "      <td>NaN</td>\n",
       "      <td>162.400000</td>\n",
       "    </tr>\n",
       "  </tbody>\n",
       "</table>\n",
       "</div>"
      ],
      "text/plain": [
       "        Community Number Community Name   Area(km2)\n",
       "count         145.000000            145  111.000000\n",
       "unique               NaN            145         NaN\n",
       "top                  NaN      Al Mamzar         NaN\n",
       "freq                 NaN              1         NaN\n",
       "mean          384.068966            NaN   13.842423\n",
       "std           218.663258            NaN   20.919408\n",
       "min            50.000000            NaN    0.070000\n",
       "25%           244.000000            NaN    1.665000\n",
       "50%           337.000000            NaN    6.900000\n",
       "75%           422.000000            NaN   17.100000\n",
       "max           971.000000            NaN  162.400000"
      ]
     },
     "execution_count": 16,
     "metadata": {},
     "output_type": "execute_result"
    }
   ],
   "source": [
    "df.describe(include='all')"
   ]
  },
  {
   "cell_type": "code",
   "execution_count": 19,
   "metadata": {},
   "outputs": [
    {
     "data": {
      "text/plain": [
       "Index(['Community Number', 'Community Name', 'Area(km2)'], dtype='object')"
      ]
     },
     "execution_count": 19,
     "metadata": {},
     "output_type": "execute_result"
    }
   ],
   "source": [
    "df.columns"
   ]
  },
  {
   "cell_type": "code",
   "execution_count": 22,
   "metadata": {},
   "outputs": [
    {
     "data": {
      "text/plain": [
       "<AxesSubplot:xlabel='Community Name', ylabel='Area(km2)'>"
      ]
     },
     "execution_count": 22,
     "metadata": {},
     "output_type": "execute_result"
    },
    {
     "data": {
      "image/png": "[encoded data removed]",
      "text/plain": [
       "<Figure size 432x288 with 1 Axes>"
      ]
     },
     "metadata": {
      "needs_background": "light"
     },
     "output_type": "display_data"
    }
   ],
   "source": [
    "sns.barplot(data=df, x='Community Name', y='Area(km2)')"
   ]
  },
  {
   "cell_type": "code",
   "execution_count": 24,
   "metadata": {},
   "outputs": [
    {
     "data": {
      "text/plain": [
       "<AxesSubplot:ylabel='Area(km2)'>"
      ]
     },
     "execution_count": 24,
     "metadata": {},
     "output_type": "execute_result"
    },
    {
     "data": {
      "image/png": "[encoded data removed]",
      "text/plain": [
       "<Figure size 432x288 with 1 Axes>"
      ]
     },
     "metadata": {
      "needs_background": "light"
     },
     "output_type": "display_data"
    }
   ],
   "source": [
    "sns.boxplot(data=df, y='Area(km2)')"
   ]
  },
  {
   "cell_type": "code",
   "execution_count": null,
   "metadata": {},
   "outputs": [],
   "source": []
  }
 ],
 "metadata": {
  "kernelspec": {
   "display_name": "Python 3",
   "language": "python",
   "name": "python3"
  },
  "language_info": {
   "codemirror_mode": {
    "name": "ipython",
    "version": 3
   },
   "file_extension": ".py",
   "mimetype": "text/x-python",
   "name": "python",
   "nbconvert_exporter": "python",
   "pygments_lexer": "ipython3",
   "version": "3.8.3"
  }
 },
 "nbformat": 4,
 "nbformat_minor": 4
}
